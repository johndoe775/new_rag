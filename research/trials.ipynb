{
 "cells": [
  {
   "cell_type": "code",
   "execution_count": 1,
   "id": "70fb71f8",
   "metadata": {},
   "outputs": [],
   "source": [
    "\n",
    "from typing import List, TypedDict, Annotated\n",
    "from langchain_community.document_loaders import PyPDFLoader\n",
    "from langchain_core.prompts import PromptTemplate\n",
    "from langchain_core.tools import tool\n",
    "import streamlit as st\n",
    "import os\n",
    "import yaml\n",
    "from dotenv import load_dotenv\n",
    "from langchain_groq import ChatGroq\n",
    "from langchain_core.prompts import PromptTemplate\n",
    "from typing import Annotated\n",
    "from typing_extensions import TypedDict\n",
    "from langgraph.graph import StateGraph, START, END\n",
    "from langgraph.graph.message import add_messages\n",
    "from langchain_core.messages import AIMessage\n",
    "\"\"\"\n",
    "from langchain.vectorstores import FAISS\n",
    "from langchain_core.graph import Graph, Node, StartNode, StopNode\n",
    "from langchain.docstore.document import Document\n",
    "from langchain_community.vectorstores import Chroma\n",
    "from langchain_community.embeddings import HuggingFaceEmbeddings\n",
    "from langchain.chains import RetrievalQA\n",
    "from langchain.prompts import PromptTemplate\n",
    "from langchain.text_splitter import RecursiveCharacterTextSplitter\n",
    "\"\"\"\n",
    "\n",
    "# Load environment variables\n",
    "load_dotenv()\n",
    "api_key = os.environ[\"groq\"]\n",
    "\n",
    "# Initialize LLM\n",
    "llm = ChatGroq(\n",
    "    model=\"llama-3.3-70b-versatile\",\n",
    "    temperature=0,\n",
    "    max_tokens=None,\n",
    "    timeout=None,\n",
    "    max_retries=2,\n",
    "    api_key=api_key\n",
    ")\n",
    "llm_ds= ChatGroq(\n",
    "    model=\"deepseek-r1-distill-llama-70b\",\n",
    "    temperature=0,\n",
    "    max_tokens=None,\n",
    "    reasoning_format=\"parsed\",\n",
    "    timeout=None,\n",
    "    max_retries=2,\n",
    "    api_key=api_key\n",
    "    # other params...\n",
    ")"
   ]
  },
  {
   "cell_type": "code",
   "execution_count": 2,
   "id": "bb88880a",
   "metadata": {},
   "outputs": [
    {
     "data": {
      "text/plain": [
       "\"It's nice to meet you. Is there something I can help you with or would you like to chat?\""
      ]
     },
     "execution_count": 2,
     "metadata": {},
     "output_type": "execute_result"
    }
   ],
   "source": [
    "llm.invoke(\"hi\").content"
   ]
  },
  {
   "cell_type": "code",
   "execution_count": 3,
   "id": "90824d37",
   "metadata": {},
   "outputs": [
    {
     "data": {
      "text/plain": [
       "'Hello! How can I assist you today? 😊'"
      ]
     },
     "execution_count": 3,
     "metadata": {},
     "output_type": "execute_result"
    }
   ],
   "source": [
    "llm_ds.invoke(\"hi\").content"
   ]
  },
  {
   "cell_type": "code",
   "execution_count": 4,
   "id": "807210fb",
   "metadata": {},
   "outputs": [],
   "source": [
    "import os\n",
    "os.getcwd()\n",
    "os.chdir(\"../\")"
   ]
  },
  {
   "cell_type": "code",
   "execution_count": 5,
   "id": "8d9ee4d7",
   "metadata": {},
   "outputs": [
    {
     "data": {
      "text/plain": [
       "'/workspaces/new_rag'"
      ]
     },
     "execution_count": 5,
     "metadata": {},
     "output_type": "execute_result"
    }
   ],
   "source": [
    "os.getcwd()"
   ]
  },
  {
   "cell_type": "code",
   "execution_count": 8,
   "id": "50b98bc2",
   "metadata": {},
   "outputs": [
    {
     "data": {
      "text/plain": [
       "'/workspaces/new_rag'"
      ]
     },
     "execution_count": 8,
     "metadata": {},
     "output_type": "execute_result"
    }
   ],
   "source": [
    "os.getcwd()"
   ]
  },
  {
   "cell_type": "code",
   "execution_count": 10,
   "id": "325721eb",
   "metadata": {},
   "outputs": [],
   "source": [
    "os.chdir('/workspaces/new_rag/research')"
   ]
  },
  {
   "cell_type": "code",
   "execution_count": 7,
   "id": "3ec36f8c",
   "metadata": {},
   "outputs": [
    {
     "ename": "ModuleNotFoundError",
     "evalue": "No module named 'tools'",
     "output_type": "error",
     "traceback": [
      "\u001b[31m---------------------------------------------------------------------------\u001b[39m",
      "\u001b[31mModuleNotFoundError\u001b[39m                       Traceback (most recent call last)",
      "\u001b[36mCell\u001b[39m\u001b[36m \u001b[39m\u001b[32mIn[7]\u001b[39m\u001b[32m, line 1\u001b[39m\n\u001b[32m----> \u001b[39m\u001b[32m1\u001b[39m \u001b[38;5;28;01mfrom\u001b[39;00m\u001b[38;5;250m \u001b[39m\u001b[34;01mtools\u001b[39;00m\u001b[38;5;250m \u001b[39m\u001b[38;5;28;01mimport\u001b[39;00m *\n",
      "\u001b[31mModuleNotFoundError\u001b[39m: No module named 'tools'"
     ]
    }
   ],
   "source": [
    "from tools import *"
   ]
  },
  {
   "cell_type": "code",
   "execution_count": 16,
   "id": "87fa1b1a",
   "metadata": {},
   "outputs": [
    {
     "data": {
      "text/plain": [
       "AIMessage(content='', additional_kwargs={'tool_calls': [{'id': '5c4jhgqt1', 'function': {'arguments': '{\"ticker\":\"AAPL\"}', 'name': 'yf'}, 'type': 'function'}]}, response_metadata={'token_usage': {'completion_tokens': 15, 'prompt_tokens': 228, 'total_tokens': 243, 'completion_time': 0.043266388, 'prompt_time': 0.011915129, 'queue_time': 0.059419001, 'total_time': 0.055181517}, 'model_name': 'llama-3.3-70b-versatile', 'system_fingerprint': 'fp_3f3b593e33', 'service_tier': 'on_demand', 'finish_reason': 'tool_calls', 'logprobs': None}, id='run--8a0e00ae-69e9-4f0a-9e3a-2618b6696511-0', tool_calls=[{'name': 'yf', 'args': {'ticker': 'AAPL'}, 'id': '5c4jhgqt1', 'type': 'tool_call'}], usage_metadata={'input_tokens': 228, 'output_tokens': 15, 'total_tokens': 243})"
      ]
     },
     "execution_count": 16,
     "metadata": {},
     "output_type": "execute_result"
    }
   ],
   "source": [
    "llm.bind_tools(tools=[yf]).invoke(\"What is the stock price of Apple?\")"
   ]
  },
  {
   "cell_type": "code",
   "execution_count": 9,
   "id": "6f1a5f94",
   "metadata": {},
   "outputs": [
    {
     "data": {
      "text/plain": [
       "'\\n# Create the agent with the stock tool\\nllm = ...  # Replace with your LLM initialization (e.g., Chatgroq or another model)\\n\\nagent = create_openai_tools_agent(\\n    llm,\\n    tools=[get_stock_price],\\n    prompt=\"You are a helpful assistant that can answer questions about stock prices. You can use the tools provided to get the information you need. If you don\\'t know the answer, just say \\'I don\\'t know\\'.\"\\n)\\n\\n# Create the agent executor\\nagent_executor = AgentExecutor(agent=agent, tools=[get_stock_price])\\n\\n# Invoke the agent with a specific question\\nresponse = agent_executor.invoke({\"input\": \"What is the stock price of Apple?\"})\\nprint(response)'"
      ]
     },
     "execution_count": 9,
     "metadata": {},
     "output_type": "execute_result"
    }
   ],
   "source": [
    "from langchain.agents import AgentExecutor, create_openai_tools_agent\n",
    "from langchain_core.tools import tool\n",
    "import yfinance as yf\n",
    "\n",
    "# Define the stock tool using yfinance\n",
    "@tool\n",
    "\n",
    "def get_stock_price(ticker: str) -> float:\n",
    "    \"\"\"  use this tool to get the stock price of a company by its ticker symbol. \"\"\"\n",
    "    stock = yf.Ticker(ticker)\n",
    "    return stock.history(period=\"1d\")['Close'].iloc[-1]\n",
    "\"\"\"\n",
    "# Create the agent with the stock tool\n",
    "llm = ...  # Replace with your LLM initialization (e.g., Chatgroq or another model)\n",
    "\n",
    "agent = create_openai_tools_agent(\n",
    "    llm,\n",
    "    tools=[get_stock_price],\n",
    "    prompt=\"You are a helpful assistant that can answer questions about stock prices. You can use the tools provided to get the information you need. If you don't know the answer, just say 'I don't know'.\"\n",
    ")\n",
    "\n",
    "# Create the agent executor\n",
    "agent_executor = AgentExecutor(agent=agent, tools=[get_stock_price])\n",
    "\n",
    "# Invoke the agent with a specific question\n",
    "response = agent_executor.invoke({\"input\": \"What is the stock price of Apple?\"})\n",
    "print(response)\"\"\"\n"
   ]
  },
  {
   "cell_type": "code",
   "execution_count": 14,
   "id": "9605d5ab",
   "metadata": {},
   "outputs": [
    {
     "data": {
      "text/plain": [
       "np.float64(213.75999450683594)"
      ]
     },
     "execution_count": 14,
     "metadata": {},
     "output_type": "execute_result"
    }
   ],
   "source": [
    "get_stock_price.invoke(\"AAPL\")"
   ]
  },
  {
   "cell_type": "code",
   "execution_count": 18,
   "id": "5ca99c76",
   "metadata": {},
   "outputs": [
    {
     "data": {
      "text/plain": [
       "[\"Here's a list of ICICI Index ETFs along with their corresponding ticker symbols on Yahoo Finance:\",\n",
       " '',\n",
       " '```python',\n",
       " 'import pandas as pd',\n",
       " '',\n",
       " 'icici_index_etfs = [',\n",
       " '    [\"ICICI Prudential Nifty Index Fund\", \"ICICINIFTY.IN\"],',\n",
       " '    [\"ICICI Prudential Nifty Next 50 Index Fund\", \"ICICINEXT50.IN\"],',\n",
       " '    [\"ICICI Prudential Sensex Index Fund\", \"ICICISENSEX.IN\"],',\n",
       " '    [\"ICICI Prudential Nifty 100 Index Fund\", \"ICICINIFTY100.IN\"],',\n",
       " '    [\"ICICI Prudential Nifty Midcap 150 Index Fund\", \"ICICINIFTYMIDCAP150.IN\"],',\n",
       " '    [\"ICICI Prudential Nifty Smallcap 250 Index Fund\", \"ICICINIFTYSMALLCAP250.IN\"],',\n",
       " '    [\"ICICI Prudential Nifty 50 Index Fund\", \"ICICINIFTY50.IN\"],',\n",
       " '    [\"ICICI Prudential Nifty Bank Index Fund\", \"ICICINIFTYBANK.IN\"],',\n",
       " '    [\"ICICI Prudential Nifty IT Index Fund\", \"ICICINIFTYIT.IN\"],',\n",
       " '    [\"ICICI Prudential Nifty Healthcare Index Fund\", \"ICICINIFTYHEALTH.IN\"],',\n",
       " '    [\"ICICI Prudential Nifty FMCG Index Fund\", \"ICICINIFTYFMCG.IN\"],',\n",
       " '    [\"ICICI Prudential Nifty Private Bank Index Fund\", \"ICICINIFTYPRIVATBANK.IN\"],',\n",
       " '    [\"ICICI Prudential Nifty Alpha Low Volatility 30 Index Fund\", \"ICICINIFTYALPHALOWVOL30.IN\"],',\n",
       " ']',\n",
       " '',\n",
       " 'df = pd.DataFrame(icici_index_etfs, columns=[\"Name\", \"Ticker\"])',\n",
       " '',\n",
       " 'print(df)',\n",
       " '```',\n",
       " '',\n",
       " 'Output:',\n",
       " '```',\n",
       " '                                  Name             Ticker',\n",
       " '0        ICICI Prudential Nifty Index Fund    ICICINIFTY.IN',\n",
       " '1  ICICI Prudential Nifty Next 50 Index Fund  ICICINEXT50.IN',\n",
       " '2      ICICI Prudential Sensex Index Fund   ICICISENSEX.IN',\n",
       " '3      ICICI Prudential Nifty 100 Index Fund  ICICINIFTY100.IN',\n",
       " '4  ICICI Prudential Nifty Midcap 150 Index Fund  ICICINIFTYMIDCAP150.IN',\n",
       " '5  ICICI Prudential Nifty Smallcap 250 Index Fund  ICICINIFTYSMALLCAP250.IN',\n",
       " '6       ICICI Prudential Nifty 50 Index Fund    ICICINIFTY50.IN',\n",
       " '7      ICICI Prudential Nifty Bank Index Fund   ICICINIFTYBANK.IN',\n",
       " '8       ICICI Prudential Nifty IT Index Fund     ICICINIFTYIT.IN',\n",
       " '9  ICICI Prudential Nifty Healthcare Index Fund  ICICINIFTYHEALTH.IN',\n",
       " '10     ICICI Prudential Nifty FMCG Index Fund    ICICINIFTYFMCG.IN',\n",
       " '11  ICICI Prudential Nifty Private Bank Index Fund  ICICINIFTYPRIVATBANK.IN',\n",
       " '12  ICICI Prudential Nifty Alpha Low Volatility 30 Index Fund  ICICINIFTYALPHALOWVOL30.IN',\n",
       " '```']"
      ]
     },
     "execution_count": 18,
     "metadata": {},
     "output_type": "execute_result"
    }
   ],
   "source": [
    "llm.invoke(\"\"\"give me a python list of all icici index etfs\n",
    "           \n",
    "         just me the list and correspronding ticker symbols on yfinace  \n",
    "          please check the latest data and give me the list \n",
    "        output:give a me a python dataframe\n",
    "           [[name, ticker]]\n",
    "           \n",
    "           \"\"\").content.split(\"\\n\")"
   ]
  },
  {
   "cell_type": "code",
   "execution_count": 1,
   "id": "7fc74098",
   "metadata": {},
   "outputs": [],
   "source": [
    "from typing import List, TypedDict\n",
    "class l1(TypedDict):\n",
    "    name: str\n",
    "    ticker: str\n",
    "class l2(TypedDict):\n",
    "    result: list[l1]    \n"
   ]
  },
  {
   "cell_type": "code",
   "execution_count": 39,
   "id": "e20f7da0",
   "metadata": {},
   "outputs": [],
   "source": [
    "llm1=llm.with_structured_output(l2)\n",
    "response=llm1.invoke('get me various nifty etf from hdfc with tickers on yfinance')"
   ]
  },
  {
   "cell_type": "code",
   "execution_count": 40,
   "id": "0d85407c",
   "metadata": {},
   "outputs": [],
   "source": [
    "import pandas as pd\n",
    "df = pd.DataFrame(response[\"result\"])\n"
   ]
  },
  {
   "cell_type": "code",
   "execution_count": 41,
   "id": "758971d9",
   "metadata": {},
   "outputs": [
    {
     "name": "stdout",
     "output_type": "stream",
     "text": [
      "HDFCNIFTY50.NS\n"
     ]
    },
    {
     "name": "stderr",
     "output_type": "stream",
     "text": [
      "$HDFCNIFTY50.NS: possibly delisted; no price data found  (period=1d) (Yahoo error = \"No data found, symbol may be delisted\")\n"
     ]
    },
    {
     "name": "stdout",
     "output_type": "stream",
     "text": [
      "Error fetching data for HDFCNIFTY50.NS: single positional indexer is out-of-bounds\n",
      "HDFCNEXT50.NS\n",
      "68.16000366210938\n",
      "\n",
      "\n",
      "HDFCNBANK.NS\n"
     ]
    },
    {
     "name": "stderr",
     "output_type": "stream",
     "text": [
      "$HDFCNBANK.NS: possibly delisted; no price data found  (period=1d) (Yahoo error = \"No data found, symbol may be delisted\")\n"
     ]
    },
    {
     "name": "stdout",
     "output_type": "stream",
     "text": [
      "Error fetching data for HDFCNBANK.NS: single positional indexer is out-of-bounds\n",
      "HDFCNIFTYIT.NS\n"
     ]
    },
    {
     "name": "stderr",
     "output_type": "stream",
     "text": [
      "$HDFCNIFTYIT.NS: possibly delisted; no price data found  (period=1d) (Yahoo error = \"No data found, symbol may be delisted\")\n"
     ]
    },
    {
     "name": "stdout",
     "output_type": "stream",
     "text": [
      "Error fetching data for HDFCNIFTYIT.NS: single positional indexer is out-of-bounds\n",
      "HDFCNIFTYPHARMA.NS\n"
     ]
    },
    {
     "name": "stderr",
     "output_type": "stream",
     "text": [
      "$HDFCNIFTYPHARMA.NS: possibly delisted; no price data found  (period=1d) (Yahoo error = \"No data found, symbol may be delisted\")\n"
     ]
    },
    {
     "name": "stdout",
     "output_type": "stream",
     "text": [
      "Error fetching data for HDFCNIFTYPHARMA.NS: single positional indexer is out-of-bounds\n"
     ]
    }
   ],
   "source": [
    "for i in df[\"ticker\"]:\n",
    "    print(i)\n",
    "    try:\n",
    "        print(get_stock_price.invoke(i))\n",
    "        print(\"\\n\")\n",
    "    except Exception as e:  \n",
    "        print(f\"Error fetching data for {i}: {e}\")\n",
    "    # You can also store the results in a list or DataFrame if needed"
   ]
  },
  {
   "cell_type": "code",
   "execution_count": 15,
   "id": "4a6499c4",
   "metadata": {},
   "outputs": [
    {
     "data": {
      "text/plain": [
       "{'result': [{'name': 'NIFTY BEES', 'ticker': 'NIFTYBEES.NS'},\n",
       "  {'name': 'JUNIOR BEES', 'ticker': 'JUNIORBEES.NS'},\n",
       "  {'name': 'LIQUID BEES', 'ticker': 'LIQUIDBEES.NS'},\n",
       "  {'name': 'GOLD BEES', 'ticker': 'GOLDBEES.NS'},\n",
       "  {'name': 'NIFTY 50 VALUE 20 INDEX FUND', 'ticker': 'NIFTY50VAL.NS'},\n",
       "  {'name': \"SHANKAR SHARMA'S SMALL CAP FUND\", 'ticker': 'SBI SMALL CAP.NS'},\n",
       "  {'name': 'SBI MAGNUM MULTI CAP FUND', 'ticker': 'SBIMAGNUMMULTI.NS'},\n",
       "  {'name': 'SBI MAGNUM FOCUSED EQUITY FUND', 'ticker': 'SBIFOCUSED.NS'},\n",
       "  {'name': 'SBI MAGNUM MID CAP FUND', 'ticker': 'SBIMIDCAP.NS'},\n",
       "  {'name': 'UTI NIFTY INDEX FUND', 'ticker': 'UTINIFTY.NS'},\n",
       "  {'name': 'UTI SENSEX INDEX FUND', 'ticker': 'UTISENSEX.NS'},\n",
       "  {'name': 'FRANKLIN INDIA FLEXI CAP FUND', 'ticker': 'FRANKLININDIAFLEXI.NS'},\n",
       "  {'name': 'FRANKLIN INDIA LIFE STAGE FUND',\n",
       "   'ticker': 'FRANKLININDIALIFESTAGE.NS'},\n",
       "  {'name': 'MIRAE ASSET INDIA EQUITY FUND',\n",
       "   'ticker': 'MIRAEASSETINDIAEQUITY.NS'},\n",
       "  {'name': 'MIRAE ASSET INDIA MID CAP FUND',\n",
       "   'ticker': 'MIRAEASSETINDIAMIDCAP.NS'}]}"
      ]
     },
     "execution_count": 15,
     "metadata": {},
     "output_type": "execute_result"
    }
   ],
   "source": [
    "response"
   ]
  },
  {
   "cell_type": "code",
   "execution_count": 6,
   "id": "0e5ef60f",
   "metadata": {},
   "outputs": [
    {
     "name": "stdout",
     "output_type": "stream",
     "text": [
      "Query 1 Result:\n",
      "<class 'pandas.core.frame.DataFrame'>\n",
      "\n",
      "Query 2 Result:\n",
      "          City  Count\n",
      "0      Chicago      1\n",
      "1      Houston      1\n",
      "2  Los Angeles      1\n",
      "3     New York      1\n"
     ]
    }
   ],
   "source": [
    "import pandas as pd\n",
    "from pandasql import sqldf\n",
    "pysqldf = lambda q: sqldf(q, globals())\n",
    "# Sample DataFrame\n",
    "data = {\n",
    "    'Name': ['Alice', 'Bob', 'Charlie', 'David'],\n",
    "    'Age': [25, 30, 35, 40],\n",
    "    'City': ['New York', 'Los Angeles', 'Chicago', 'Houston']\n",
    "}\n",
    "\n",
    "df = pd.DataFrame(data)\n",
    "\n",
    "# Function to query the DataFrame using SQL\n",
    "\n",
    "# Example SQL queries\n",
    "query1 = \"SELECT * FROM df WHERE Age > 30\"\n",
    "result1 = pysqldf(query1)\n",
    "print(\"Query 1 Result:\")\n",
    "print(type(result1))\n",
    "\n",
    "query2 = \"SELECT City, COUNT(*) as Count FROM df GROUP BY City\"\n",
    "result2 = pysqldf(query2)\n",
    "print(\"\\nQuery 2 Result:\")\n",
    "print(result2)\n"
   ]
  },
  {
   "cell_type": "code",
   "execution_count": 7,
   "id": "43783d65",
   "metadata": {},
   "outputs": [],
   "source": [
    "@tool\n",
    "def query_dataframe(query: str) -> pd.DataFrame:\n",
    "    \"\"\"Use this tool to query a pandas DataFrame using SQL syntax.\"\"\"\n",
    "    return pysqldf(query)"
   ]
  },
  {
   "cell_type": "code",
   "execution_count": 12,
   "id": "d36ff8a6",
   "metadata": {},
   "outputs": [
    {
     "data": {
      "text/html": [
       "<div>\n",
       "<style scoped>\n",
       "    .dataframe tbody tr th:only-of-type {\n",
       "        vertical-align: middle;\n",
       "    }\n",
       "\n",
       "    .dataframe tbody tr th {\n",
       "        vertical-align: top;\n",
       "    }\n",
       "\n",
       "    .dataframe thead th {\n",
       "        text-align: right;\n",
       "    }\n",
       "</style>\n",
       "<table border=\"1\" class=\"dataframe\">\n",
       "  <thead>\n",
       "    <tr style=\"text-align: right;\">\n",
       "      <th></th>\n",
       "      <th>Name</th>\n",
       "      <th>Age</th>\n",
       "      <th>City</th>\n",
       "    </tr>\n",
       "  </thead>\n",
       "  <tbody>\n",
       "    <tr>\n",
       "      <th>0</th>\n",
       "      <td>Charlie</td>\n",
       "      <td>35</td>\n",
       "      <td>Chicago</td>\n",
       "    </tr>\n",
       "    <tr>\n",
       "      <th>1</th>\n",
       "      <td>David</td>\n",
       "      <td>40</td>\n",
       "      <td>Houston</td>\n",
       "    </tr>\n",
       "  </tbody>\n",
       "</table>\n",
       "</div>"
      ],
      "text/plain": [
       "      Name  Age     City\n",
       "0  Charlie   35  Chicago\n",
       "1    David   40  Houston"
      ]
     },
     "execution_count": 12,
     "metadata": {},
     "output_type": "execute_result"
    }
   ],
   "source": [
    "query_dataframe.invoke(\"SELECT * FROM df WHERE Age > 30\")"
   ]
  },
  {
   "cell_type": "code",
   "execution_count": 44,
   "id": "2fa60619",
   "metadata": {},
   "outputs": [],
   "source": [
    "import pandas as pd\n",
    "from pandasql import sqldf\n",
    "import io\n",
    "\n",
    "\n",
    "pysqldf = lambda q: sqldf(q, globals())\n",
    "\n",
    "@tool\n",
    "def dataframe_and_collection(dataframe:pd.DataFrame, query: str) -> pd.DataFrame:\n",
    "    \"\"\"  use this tool to create queries and display results in the form of pandas dataframe\"\"\"\n",
    "    buffer = io.StringIO()\n",
    "    df.info(buf=buffer)\n",
    "    s = buffer.getvalue()\n",
    "    \"\"\"You are given a dataframe info and a query from user regarding dataframe, your job is to write SQL query that suffices the user's objective \n",
    "    note that query so given must run on pandasql \n",
    "    use pysql to query the dataframe and return a pandas dataframe\n",
    "    ### Inputs :\n",
    "        - dataframe: The name of the dataframe to be queried.\n",
    "        - query: The user's query regarding the dataframe.\n",
    "    ### Output:\n",
    "        - A pandas DataFrame containing the results of the SQL query.\n",
    "    ### Example Output of the query that must be used for pysqldf function:\n",
    "    query 1: \"give me all the rows where age is less than 30\"\n",
    "    output 1: \"SELECT * FROM dataframe WHERE Age < 30\"\n",
    "    ### Instructions:\n",
    "        1. Use the `pysqldf` function to execute the SQL query\n",
    "        2. Ensure that the query is valid and can be executed on the given dataframe.\n",
    "        3. Don't give any explanation or additional information or preamble in query, just return the result of the query as a pandas DataFrame.\n",
    "    \"\"\"\n",
    "    # Ensure that the prompt is correctly formatted\n",
    "    prompt = PromptTemplate(\n",
    "        input_variables=[s, query],\n",
    "        template=f\"\"\"You are given a dataframe info {s} and a {query} from user regarding dataframe, your job is to write SQL query that suffices the user's objective \n",
    "        note that query so given must run on pandasql and return a pandas dataframe\n",
    "        \"\"\"\n",
    "    )\n",
    "    #prompt = prompt.format(dataframe=dataframe, query=query)\n",
    "    \n",
    "    # Ensure that chain is defined and can invoke the LLM\n",
    "    chain = prompt | llm  # This line needs to be valid in your context\n",
    "    response = chain.invoke({\"dataframe\": dataframe, \"query\": query}).content\n",
    "    \n",
    "    # Execute the SQL query and return the result\n",
    "    return pysqldf(response)\n"
   ]
  },
  {
   "cell_type": "code",
   "execution_count": 45,
   "id": "56f8c71b",
   "metadata": {},
   "outputs": [
    {
     "ename": "PandaSQLException",
     "evalue": "(sqlite3.OperationalError) near \"To\": syntax error\n[SQL: To achieve the user's objective, you can use the following SQL query in pandasql:\n\n```sql\nSELECT * FROM info WHERE Age > 30\n```\n\nThis query will return all rows from the `info` dataframe where the `Age` is greater than 30.\n\nHere's how you can execute this query using pandasql:\n\n```python\nimport pandas as pd\nfrom pandasql import sqldf\n\n# assuming 'info' is your dataframe\ninfo = pd.DataFrame({\n    'Name': ['John', 'Anna', 'Peter', 'Linda'],\n    'Age': [25, 35, 40, 20],\n    'City': ['New York', 'Paris', 'Berlin', 'London']\n})\n\n# create a sqldf object\npysqldf = sqldf\n\n# execute the query\nresult_df = pysqldf(\"SELECT * FROM info WHERE Age > 30\")\n\nprint(result_df)\n```\n\nIn this example, the `result_df` will contain all rows from the `info` dataframe where the `Age` is greater than 30. The output will be:\n\n```\n    Name  Age     City\n1   Anna   35    Paris\n2  Peter   40   Berlin\n```]\n(Background on this error at: https://sqlalche.me/e/20/e3q8)",
     "output_type": "error",
     "traceback": [
      "\u001b[31m---------------------------------------------------------------------------\u001b[39m",
      "\u001b[31mOperationalError\u001b[39m                          Traceback (most recent call last)",
      "\u001b[36mFile \u001b[39m\u001b[32m/workspaces/new_rag/.venv/lib/python3.12/site-packages/sqlalchemy/engine/base.py:1963\u001b[39m, in \u001b[36mConnection._exec_single_context\u001b[39m\u001b[34m(self, dialect, context, statement, parameters)\u001b[39m\n\u001b[32m   1962\u001b[39m     \u001b[38;5;28;01mif\u001b[39;00m \u001b[38;5;129;01mnot\u001b[39;00m evt_handled:\n\u001b[32m-> \u001b[39m\u001b[32m1963\u001b[39m         \u001b[38;5;28;43mself\u001b[39;49m\u001b[43m.\u001b[49m\u001b[43mdialect\u001b[49m\u001b[43m.\u001b[49m\u001b[43mdo_execute\u001b[49m\u001b[43m(\u001b[49m\n\u001b[32m   1964\u001b[39m \u001b[43m            \u001b[49m\u001b[43mcursor\u001b[49m\u001b[43m,\u001b[49m\u001b[43m \u001b[49m\u001b[43mstr_statement\u001b[49m\u001b[43m,\u001b[49m\u001b[43m \u001b[49m\u001b[43meffective_parameters\u001b[49m\u001b[43m,\u001b[49m\u001b[43m \u001b[49m\u001b[43mcontext\u001b[49m\n\u001b[32m   1965\u001b[39m \u001b[43m        \u001b[49m\u001b[43m)\u001b[49m\n\u001b[32m   1967\u001b[39m \u001b[38;5;28;01mif\u001b[39;00m \u001b[38;5;28mself\u001b[39m._has_events \u001b[38;5;129;01mor\u001b[39;00m \u001b[38;5;28mself\u001b[39m.engine._has_events:\n",
      "\u001b[36mFile \u001b[39m\u001b[32m/workspaces/new_rag/.venv/lib/python3.12/site-packages/sqlalchemy/engine/default.py:943\u001b[39m, in \u001b[36mDefaultDialect.do_execute\u001b[39m\u001b[34m(self, cursor, statement, parameters, context)\u001b[39m\n\u001b[32m    942\u001b[39m \u001b[38;5;28;01mdef\u001b[39;00m\u001b[38;5;250m \u001b[39m\u001b[34mdo_execute\u001b[39m(\u001b[38;5;28mself\u001b[39m, cursor, statement, parameters, context=\u001b[38;5;28;01mNone\u001b[39;00m):\n\u001b[32m--> \u001b[39m\u001b[32m943\u001b[39m     \u001b[43mcursor\u001b[49m\u001b[43m.\u001b[49m\u001b[43mexecute\u001b[49m\u001b[43m(\u001b[49m\u001b[43mstatement\u001b[49m\u001b[43m,\u001b[49m\u001b[43m \u001b[49m\u001b[43mparameters\u001b[49m\u001b[43m)\u001b[49m\n",
      "\u001b[31mOperationalError\u001b[39m: near \"To\": syntax error",
      "\nThe above exception was the direct cause of the following exception:\n",
      "\u001b[31mOperationalError\u001b[39m                          Traceback (most recent call last)",
      "\u001b[36mFile \u001b[39m\u001b[32m/workspaces/new_rag/.venv/lib/python3.12/site-packages/pandasql/sqldf.py:61\u001b[39m, in \u001b[36mPandaSQL.__call__\u001b[39m\u001b[34m(self, query, env)\u001b[39m\n\u001b[32m     60\u001b[39m \u001b[38;5;28;01mtry\u001b[39;00m:\n\u001b[32m---> \u001b[39m\u001b[32m61\u001b[39m     result = \u001b[43mread_sql\u001b[49m\u001b[43m(\u001b[49m\u001b[43mquery\u001b[49m\u001b[43m,\u001b[49m\u001b[43m \u001b[49m\u001b[43mconn\u001b[49m\u001b[43m)\u001b[49m\n\u001b[32m     62\u001b[39m \u001b[38;5;28;01mexcept\u001b[39;00m DatabaseError \u001b[38;5;28;01mas\u001b[39;00m ex:\n",
      "\u001b[36mFile \u001b[39m\u001b[32m/workspaces/new_rag/.venv/lib/python3.12/site-packages/pandas/io/sql.py:734\u001b[39m, in \u001b[36mread_sql\u001b[39m\u001b[34m(sql, con, index_col, coerce_float, params, parse_dates, columns, chunksize, dtype_backend, dtype)\u001b[39m\n\u001b[32m    733\u001b[39m \u001b[38;5;28;01melse\u001b[39;00m:\n\u001b[32m--> \u001b[39m\u001b[32m734\u001b[39m     \u001b[38;5;28;01mreturn\u001b[39;00m \u001b[43mpandas_sql\u001b[49m\u001b[43m.\u001b[49m\u001b[43mread_query\u001b[49m\u001b[43m(\u001b[49m\n\u001b[32m    735\u001b[39m \u001b[43m        \u001b[49m\u001b[43msql\u001b[49m\u001b[43m,\u001b[49m\n\u001b[32m    736\u001b[39m \u001b[43m        \u001b[49m\u001b[43mindex_col\u001b[49m\u001b[43m=\u001b[49m\u001b[43mindex_col\u001b[49m\u001b[43m,\u001b[49m\n\u001b[32m    737\u001b[39m \u001b[43m        \u001b[49m\u001b[43mparams\u001b[49m\u001b[43m=\u001b[49m\u001b[43mparams\u001b[49m\u001b[43m,\u001b[49m\n\u001b[32m    738\u001b[39m \u001b[43m        \u001b[49m\u001b[43mcoerce_float\u001b[49m\u001b[43m=\u001b[49m\u001b[43mcoerce_float\u001b[49m\u001b[43m,\u001b[49m\n\u001b[32m    739\u001b[39m \u001b[43m        \u001b[49m\u001b[43mparse_dates\u001b[49m\u001b[43m=\u001b[49m\u001b[43mparse_dates\u001b[49m\u001b[43m,\u001b[49m\n\u001b[32m    740\u001b[39m \u001b[43m        \u001b[49m\u001b[43mchunksize\u001b[49m\u001b[43m=\u001b[49m\u001b[43mchunksize\u001b[49m\u001b[43m,\u001b[49m\n\u001b[32m    741\u001b[39m \u001b[43m        \u001b[49m\u001b[43mdtype_backend\u001b[49m\u001b[43m=\u001b[49m\u001b[43mdtype_backend\u001b[49m\u001b[43m,\u001b[49m\n\u001b[32m    742\u001b[39m \u001b[43m        \u001b[49m\u001b[43mdtype\u001b[49m\u001b[43m=\u001b[49m\u001b[43mdtype\u001b[49m\u001b[43m,\u001b[49m\n\u001b[32m    743\u001b[39m \u001b[43m    \u001b[49m\u001b[43m)\u001b[49m\n",
      "\u001b[36mFile \u001b[39m\u001b[32m/workspaces/new_rag/.venv/lib/python3.12/site-packages/pandas/io/sql.py:1836\u001b[39m, in \u001b[36mSQLDatabase.read_query\u001b[39m\u001b[34m(self, sql, index_col, coerce_float, parse_dates, params, chunksize, dtype, dtype_backend)\u001b[39m\n\u001b[32m   1790\u001b[39m \u001b[38;5;250m\u001b[39m\u001b[33;03m\"\"\"\u001b[39;00m\n\u001b[32m   1791\u001b[39m \u001b[33;03mRead SQL query into a DataFrame.\u001b[39;00m\n\u001b[32m   1792\u001b[39m \n\u001b[32m   (...)\u001b[39m\u001b[32m   1834\u001b[39m \n\u001b[32m   1835\u001b[39m \u001b[33;03m\"\"\"\u001b[39;00m\n\u001b[32m-> \u001b[39m\u001b[32m1836\u001b[39m result = \u001b[38;5;28;43mself\u001b[39;49m\u001b[43m.\u001b[49m\u001b[43mexecute\u001b[49m\u001b[43m(\u001b[49m\u001b[43msql\u001b[49m\u001b[43m,\u001b[49m\u001b[43m \u001b[49m\u001b[43mparams\u001b[49m\u001b[43m)\u001b[49m\n\u001b[32m   1837\u001b[39m columns = result.keys()\n",
      "\u001b[36mFile \u001b[39m\u001b[32m/workspaces/new_rag/.venv/lib/python3.12/site-packages/pandas/io/sql.py:1659\u001b[39m, in \u001b[36mSQLDatabase.execute\u001b[39m\u001b[34m(self, sql, params)\u001b[39m\n\u001b[32m   1658\u001b[39m \u001b[38;5;28;01mif\u001b[39;00m \u001b[38;5;28misinstance\u001b[39m(sql, \u001b[38;5;28mstr\u001b[39m):\n\u001b[32m-> \u001b[39m\u001b[32m1659\u001b[39m     \u001b[38;5;28;01mreturn\u001b[39;00m \u001b[38;5;28;43mself\u001b[39;49m\u001b[43m.\u001b[49m\u001b[43mcon\u001b[49m\u001b[43m.\u001b[49m\u001b[43mexec_driver_sql\u001b[49m\u001b[43m(\u001b[49m\u001b[43msql\u001b[49m\u001b[43m,\u001b[49m\u001b[43m \u001b[49m\u001b[43m*\u001b[49m\u001b[43margs\u001b[49m\u001b[43m)\u001b[49m\n\u001b[32m   1660\u001b[39m \u001b[38;5;28;01mreturn\u001b[39;00m \u001b[38;5;28mself\u001b[39m.con.execute(sql, *args)\n",
      "\u001b[36mFile \u001b[39m\u001b[32m/workspaces/new_rag/.venv/lib/python3.12/site-packages/sqlalchemy/engine/base.py:1775\u001b[39m, in \u001b[36mConnection.exec_driver_sql\u001b[39m\u001b[34m(self, statement, parameters, execution_options)\u001b[39m\n\u001b[32m   1774\u001b[39m dialect = \u001b[38;5;28mself\u001b[39m.dialect\n\u001b[32m-> \u001b[39m\u001b[32m1775\u001b[39m ret = \u001b[38;5;28;43mself\u001b[39;49m\u001b[43m.\u001b[49m\u001b[43m_execute_context\u001b[49m\u001b[43m(\u001b[49m\n\u001b[32m   1776\u001b[39m \u001b[43m    \u001b[49m\u001b[43mdialect\u001b[49m\u001b[43m,\u001b[49m\n\u001b[32m   1777\u001b[39m \u001b[43m    \u001b[49m\u001b[43mdialect\u001b[49m\u001b[43m.\u001b[49m\u001b[43mexecution_ctx_cls\u001b[49m\u001b[43m.\u001b[49m\u001b[43m_init_statement\u001b[49m\u001b[43m,\u001b[49m\n\u001b[32m   1778\u001b[39m \u001b[43m    \u001b[49m\u001b[43mstatement\u001b[49m\u001b[43m,\u001b[49m\n\u001b[32m   1779\u001b[39m \u001b[43m    \u001b[49m\u001b[38;5;28;43;01mNone\u001b[39;49;00m\u001b[43m,\u001b[49m\n\u001b[32m   1780\u001b[39m \u001b[43m    \u001b[49m\u001b[43mexecution_options\u001b[49m\u001b[43m,\u001b[49m\n\u001b[32m   1781\u001b[39m \u001b[43m    \u001b[49m\u001b[43mstatement\u001b[49m\u001b[43m,\u001b[49m\n\u001b[32m   1782\u001b[39m \u001b[43m    \u001b[49m\u001b[43mdistilled_parameters\u001b[49m\u001b[43m,\u001b[49m\n\u001b[32m   1783\u001b[39m \u001b[43m\u001b[49m\u001b[43m)\u001b[49m\n\u001b[32m   1785\u001b[39m \u001b[38;5;28;01mreturn\u001b[39;00m ret\n",
      "\u001b[36mFile \u001b[39m\u001b[32m/workspaces/new_rag/.venv/lib/python3.12/site-packages/sqlalchemy/engine/base.py:1842\u001b[39m, in \u001b[36mConnection._execute_context\u001b[39m\u001b[34m(self, dialect, constructor, statement, parameters, execution_options, *args, **kw)\u001b[39m\n\u001b[32m   1841\u001b[39m \u001b[38;5;28;01melse\u001b[39;00m:\n\u001b[32m-> \u001b[39m\u001b[32m1842\u001b[39m     \u001b[38;5;28;01mreturn\u001b[39;00m \u001b[38;5;28;43mself\u001b[39;49m\u001b[43m.\u001b[49m\u001b[43m_exec_single_context\u001b[49m\u001b[43m(\u001b[49m\n\u001b[32m   1843\u001b[39m \u001b[43m        \u001b[49m\u001b[43mdialect\u001b[49m\u001b[43m,\u001b[49m\u001b[43m \u001b[49m\u001b[43mcontext\u001b[49m\u001b[43m,\u001b[49m\u001b[43m \u001b[49m\u001b[43mstatement\u001b[49m\u001b[43m,\u001b[49m\u001b[43m \u001b[49m\u001b[43mparameters\u001b[49m\n\u001b[32m   1844\u001b[39m \u001b[43m    \u001b[49m\u001b[43m)\u001b[49m\n",
      "\u001b[36mFile \u001b[39m\u001b[32m/workspaces/new_rag/.venv/lib/python3.12/site-packages/sqlalchemy/engine/base.py:1982\u001b[39m, in \u001b[36mConnection._exec_single_context\u001b[39m\u001b[34m(self, dialect, context, statement, parameters)\u001b[39m\n\u001b[32m   1981\u001b[39m \u001b[38;5;28;01mexcept\u001b[39;00m \u001b[38;5;167;01mBaseException\u001b[39;00m \u001b[38;5;28;01mas\u001b[39;00m e:\n\u001b[32m-> \u001b[39m\u001b[32m1982\u001b[39m     \u001b[38;5;28;43mself\u001b[39;49m\u001b[43m.\u001b[49m\u001b[43m_handle_dbapi_exception\u001b[49m\u001b[43m(\u001b[49m\n\u001b[32m   1983\u001b[39m \u001b[43m        \u001b[49m\u001b[43me\u001b[49m\u001b[43m,\u001b[49m\u001b[43m \u001b[49m\u001b[43mstr_statement\u001b[49m\u001b[43m,\u001b[49m\u001b[43m \u001b[49m\u001b[43meffective_parameters\u001b[49m\u001b[43m,\u001b[49m\u001b[43m \u001b[49m\u001b[43mcursor\u001b[49m\u001b[43m,\u001b[49m\u001b[43m \u001b[49m\u001b[43mcontext\u001b[49m\n\u001b[32m   1984\u001b[39m \u001b[43m    \u001b[49m\u001b[43m)\u001b[49m\n\u001b[32m   1986\u001b[39m \u001b[38;5;28;01mreturn\u001b[39;00m result\n",
      "\u001b[36mFile \u001b[39m\u001b[32m/workspaces/new_rag/.venv/lib/python3.12/site-packages/sqlalchemy/engine/base.py:2351\u001b[39m, in \u001b[36mConnection._handle_dbapi_exception\u001b[39m\u001b[34m(self, e, statement, parameters, cursor, context, is_sub_exec)\u001b[39m\n\u001b[32m   2350\u001b[39m     \u001b[38;5;28;01massert\u001b[39;00m sqlalchemy_exception \u001b[38;5;129;01mis\u001b[39;00m \u001b[38;5;129;01mnot\u001b[39;00m \u001b[38;5;28;01mNone\u001b[39;00m\n\u001b[32m-> \u001b[39m\u001b[32m2351\u001b[39m     \u001b[38;5;28;01mraise\u001b[39;00m sqlalchemy_exception.with_traceback(exc_info[\u001b[32m2\u001b[39m]) \u001b[38;5;28;01mfrom\u001b[39;00m\u001b[38;5;250m \u001b[39m\u001b[34;01me\u001b[39;00m\n\u001b[32m   2352\u001b[39m \u001b[38;5;28;01melse\u001b[39;00m:\n",
      "\u001b[36mFile \u001b[39m\u001b[32m/workspaces/new_rag/.venv/lib/python3.12/site-packages/sqlalchemy/engine/base.py:1963\u001b[39m, in \u001b[36mConnection._exec_single_context\u001b[39m\u001b[34m(self, dialect, context, statement, parameters)\u001b[39m\n\u001b[32m   1962\u001b[39m     \u001b[38;5;28;01mif\u001b[39;00m \u001b[38;5;129;01mnot\u001b[39;00m evt_handled:\n\u001b[32m-> \u001b[39m\u001b[32m1963\u001b[39m         \u001b[38;5;28;43mself\u001b[39;49m\u001b[43m.\u001b[49m\u001b[43mdialect\u001b[49m\u001b[43m.\u001b[49m\u001b[43mdo_execute\u001b[49m\u001b[43m(\u001b[49m\n\u001b[32m   1964\u001b[39m \u001b[43m            \u001b[49m\u001b[43mcursor\u001b[49m\u001b[43m,\u001b[49m\u001b[43m \u001b[49m\u001b[43mstr_statement\u001b[49m\u001b[43m,\u001b[49m\u001b[43m \u001b[49m\u001b[43meffective_parameters\u001b[49m\u001b[43m,\u001b[49m\u001b[43m \u001b[49m\u001b[43mcontext\u001b[49m\n\u001b[32m   1965\u001b[39m \u001b[43m        \u001b[49m\u001b[43m)\u001b[49m\n\u001b[32m   1967\u001b[39m \u001b[38;5;28;01mif\u001b[39;00m \u001b[38;5;28mself\u001b[39m._has_events \u001b[38;5;129;01mor\u001b[39;00m \u001b[38;5;28mself\u001b[39m.engine._has_events:\n",
      "\u001b[36mFile \u001b[39m\u001b[32m/workspaces/new_rag/.venv/lib/python3.12/site-packages/sqlalchemy/engine/default.py:943\u001b[39m, in \u001b[36mDefaultDialect.do_execute\u001b[39m\u001b[34m(self, cursor, statement, parameters, context)\u001b[39m\n\u001b[32m    942\u001b[39m \u001b[38;5;28;01mdef\u001b[39;00m\u001b[38;5;250m \u001b[39m\u001b[34mdo_execute\u001b[39m(\u001b[38;5;28mself\u001b[39m, cursor, statement, parameters, context=\u001b[38;5;28;01mNone\u001b[39;00m):\n\u001b[32m--> \u001b[39m\u001b[32m943\u001b[39m     \u001b[43mcursor\u001b[49m\u001b[43m.\u001b[49m\u001b[43mexecute\u001b[49m\u001b[43m(\u001b[49m\u001b[43mstatement\u001b[49m\u001b[43m,\u001b[49m\u001b[43m \u001b[49m\u001b[43mparameters\u001b[49m\u001b[43m)\u001b[49m\n",
      "\u001b[31mOperationalError\u001b[39m: (sqlite3.OperationalError) near \"To\": syntax error\n[SQL: To achieve the user's objective, you can use the following SQL query in pandasql:\n\n```sql\nSELECT * FROM info WHERE Age > 30\n```\n\nThis query will return all rows from the `info` dataframe where the `Age` is greater than 30.\n\nHere's how you can execute this query using pandasql:\n\n```python\nimport pandas as pd\nfrom pandasql import sqldf\n\n# assuming 'info' is your dataframe\ninfo = pd.DataFrame({\n    'Name': ['John', 'Anna', 'Peter', 'Linda'],\n    'Age': [25, 35, 40, 20],\n    'City': ['New York', 'Paris', 'Berlin', 'London']\n})\n\n# create a sqldf object\npysqldf = sqldf\n\n# execute the query\nresult_df = pysqldf(\"SELECT * FROM info WHERE Age > 30\")\n\nprint(result_df)\n```\n\nIn this example, the `result_df` will contain all rows from the `info` dataframe where the `Age` is greater than 30. The output will be:\n\n```\n    Name  Age     City\n1   Anna   35    Paris\n2  Peter   40   Berlin\n```]\n(Background on this error at: https://sqlalche.me/e/20/e3q8)",
      "\nDuring handling of the above exception, another exception occurred:\n",
      "\u001b[31mPandaSQLException\u001b[39m                         Traceback (most recent call last)",
      "\u001b[36mCell\u001b[39m\u001b[36m \u001b[39m\u001b[32mIn[45]\u001b[39m\u001b[32m, line 1\u001b[39m\n\u001b[32m----> \u001b[39m\u001b[32m1\u001b[39m \u001b[43mdataframe_and_collection\u001b[49m\u001b[43m.\u001b[49m\u001b[43minvoke\u001b[49m\u001b[43m(\u001b[49m\u001b[43m{\u001b[49m\u001b[33;43m\"\u001b[39;49m\u001b[33;43mdataframe\u001b[39;49m\u001b[33;43m\"\u001b[39;49m\u001b[43m:\u001b[49m\u001b[43m \u001b[49m\u001b[43mdf\u001b[49m\u001b[43m,\u001b[49m\u001b[43m \u001b[49m\u001b[33;43m\"\u001b[39;49m\u001b[33;43mquery\u001b[39;49m\u001b[33;43m\"\u001b[39;49m\u001b[43m:\u001b[49m\u001b[43m \u001b[49m\u001b[33;43m\"\u001b[39;49m\u001b[33;43mgive me all the rows where age is greater than 30\u001b[39;49m\u001b[33;43m\"\u001b[39;49m\u001b[43m}\u001b[49m\u001b[43m)\u001b[49m\n",
      "\u001b[36mFile \u001b[39m\u001b[32m/workspaces/new_rag/.venv/lib/python3.12/site-packages/langchain_core/tools/base.py:599\u001b[39m, in \u001b[36mBaseTool.invoke\u001b[39m\u001b[34m(self, input, config, **kwargs)\u001b[39m\n\u001b[32m    591\u001b[39m \u001b[38;5;129m@override\u001b[39m\n\u001b[32m    592\u001b[39m \u001b[38;5;28;01mdef\u001b[39;00m\u001b[38;5;250m \u001b[39m\u001b[34minvoke\u001b[39m(\n\u001b[32m    593\u001b[39m     \u001b[38;5;28mself\u001b[39m,\n\u001b[32m   (...)\u001b[39m\u001b[32m    596\u001b[39m     **kwargs: Any,\n\u001b[32m    597\u001b[39m ) -> Any:\n\u001b[32m    598\u001b[39m     tool_input, kwargs = _prep_run_args(\u001b[38;5;28minput\u001b[39m, config, **kwargs)\n\u001b[32m--> \u001b[39m\u001b[32m599\u001b[39m     \u001b[38;5;28;01mreturn\u001b[39;00m \u001b[38;5;28;43mself\u001b[39;49m\u001b[43m.\u001b[49m\u001b[43mrun\u001b[49m\u001b[43m(\u001b[49m\u001b[43mtool_input\u001b[49m\u001b[43m,\u001b[49m\u001b[43m \u001b[49m\u001b[43m*\u001b[49m\u001b[43m*\u001b[49m\u001b[43mkwargs\u001b[49m\u001b[43m)\u001b[49m\n",
      "\u001b[36mFile \u001b[39m\u001b[32m/workspaces/new_rag/.venv/lib/python3.12/site-packages/langchain_core/tools/base.py:883\u001b[39m, in \u001b[36mBaseTool.run\u001b[39m\u001b[34m(self, tool_input, verbose, start_color, color, callbacks, tags, metadata, run_name, run_id, config, tool_call_id, **kwargs)\u001b[39m\n\u001b[32m    881\u001b[39m \u001b[38;5;28;01mif\u001b[39;00m error_to_raise:\n\u001b[32m    882\u001b[39m     run_manager.on_tool_error(error_to_raise)\n\u001b[32m--> \u001b[39m\u001b[32m883\u001b[39m     \u001b[38;5;28;01mraise\u001b[39;00m error_to_raise\n\u001b[32m    884\u001b[39m output = _format_output(content, artifact, tool_call_id, \u001b[38;5;28mself\u001b[39m.name, status)\n\u001b[32m    885\u001b[39m run_manager.on_tool_end(output, color=color, name=\u001b[38;5;28mself\u001b[39m.name, **kwargs)\n",
      "\u001b[36mFile \u001b[39m\u001b[32m/workspaces/new_rag/.venv/lib/python3.12/site-packages/langchain_core/tools/base.py:852\u001b[39m, in \u001b[36mBaseTool.run\u001b[39m\u001b[34m(self, tool_input, verbose, start_color, color, callbacks, tags, metadata, run_name, run_id, config, tool_call_id, **kwargs)\u001b[39m\n\u001b[32m    850\u001b[39m     \u001b[38;5;28;01mif\u001b[39;00m config_param := _get_runnable_config_param(\u001b[38;5;28mself\u001b[39m._run):\n\u001b[32m    851\u001b[39m         tool_kwargs |= {config_param: config}\n\u001b[32m--> \u001b[39m\u001b[32m852\u001b[39m     response = \u001b[43mcontext\u001b[49m\u001b[43m.\u001b[49m\u001b[43mrun\u001b[49m\u001b[43m(\u001b[49m\u001b[38;5;28;43mself\u001b[39;49m\u001b[43m.\u001b[49m\u001b[43m_run\u001b[49m\u001b[43m,\u001b[49m\u001b[43m \u001b[49m\u001b[43m*\u001b[49m\u001b[43mtool_args\u001b[49m\u001b[43m,\u001b[49m\u001b[43m \u001b[49m\u001b[43m*\u001b[49m\u001b[43m*\u001b[49m\u001b[43mtool_kwargs\u001b[49m\u001b[43m)\u001b[49m\n\u001b[32m    853\u001b[39m \u001b[38;5;28;01mif\u001b[39;00m \u001b[38;5;28mself\u001b[39m.response_format == \u001b[33m\"\u001b[39m\u001b[33mcontent_and_artifact\u001b[39m\u001b[33m\"\u001b[39m:\n\u001b[32m    854\u001b[39m     \u001b[38;5;28;01mif\u001b[39;00m \u001b[38;5;129;01mnot\u001b[39;00m \u001b[38;5;28misinstance\u001b[39m(response, \u001b[38;5;28mtuple\u001b[39m) \u001b[38;5;129;01mor\u001b[39;00m \u001b[38;5;28mlen\u001b[39m(response) != \u001b[32m2\u001b[39m:\n",
      "\u001b[36mFile \u001b[39m\u001b[32m/workspaces/new_rag/.venv/lib/python3.12/site-packages/langchain_core/tools/structured.py:93\u001b[39m, in \u001b[36mStructuredTool._run\u001b[39m\u001b[34m(self, config, run_manager, *args, **kwargs)\u001b[39m\n\u001b[32m     91\u001b[39m     \u001b[38;5;28;01mif\u001b[39;00m config_param := _get_runnable_config_param(\u001b[38;5;28mself\u001b[39m.func):\n\u001b[32m     92\u001b[39m         kwargs[config_param] = config\n\u001b[32m---> \u001b[39m\u001b[32m93\u001b[39m     \u001b[38;5;28;01mreturn\u001b[39;00m \u001b[38;5;28;43mself\u001b[39;49m\u001b[43m.\u001b[49m\u001b[43mfunc\u001b[49m\u001b[43m(\u001b[49m\u001b[43m*\u001b[49m\u001b[43margs\u001b[49m\u001b[43m,\u001b[49m\u001b[43m \u001b[49m\u001b[43m*\u001b[49m\u001b[43m*\u001b[49m\u001b[43mkwargs\u001b[49m\u001b[43m)\u001b[49m\n\u001b[32m     94\u001b[39m msg = \u001b[33m\"\u001b[39m\u001b[33mStructuredTool does not support sync invocation.\u001b[39m\u001b[33m\"\u001b[39m\n\u001b[32m     95\u001b[39m \u001b[38;5;28;01mraise\u001b[39;00m \u001b[38;5;167;01mNotImplementedError\u001b[39;00m(msg)\n",
      "\u001b[36mCell\u001b[39m\u001b[36m \u001b[39m\u001b[32mIn[44]\u001b[39m\u001b[32m, line 44\u001b[39m, in \u001b[36mdataframe_and_collection\u001b[39m\u001b[34m(dataframe, query)\u001b[39m\n\u001b[32m     41\u001b[39m response = chain.invoke({\u001b[33m\"\u001b[39m\u001b[33mdataframe\u001b[39m\u001b[33m\"\u001b[39m: dataframe, \u001b[33m\"\u001b[39m\u001b[33mquery\u001b[39m\u001b[33m\"\u001b[39m: query}).content\n\u001b[32m     43\u001b[39m \u001b[38;5;66;03m# Execute the SQL query and return the result\u001b[39;00m\n\u001b[32m---> \u001b[39m\u001b[32m44\u001b[39m \u001b[38;5;28;01mreturn\u001b[39;00m \u001b[43mpysqldf\u001b[49m\u001b[43m(\u001b[49m\u001b[43mresponse\u001b[49m\u001b[43m)\u001b[49m\n",
      "\u001b[36mCell\u001b[39m\u001b[36m \u001b[39m\u001b[32mIn[44]\u001b[39m\u001b[32m, line 6\u001b[39m, in \u001b[36m<lambda>\u001b[39m\u001b[34m(q)\u001b[39m\n\u001b[32m      2\u001b[39m \u001b[38;5;28;01mfrom\u001b[39;00m\u001b[38;5;250m \u001b[39m\u001b[34;01mpandasql\u001b[39;00m\u001b[38;5;250m \u001b[39m\u001b[38;5;28;01mimport\u001b[39;00m sqldf\n\u001b[32m      3\u001b[39m \u001b[38;5;28;01mimport\u001b[39;00m\u001b[38;5;250m \u001b[39m\u001b[34;01mio\u001b[39;00m\n\u001b[32m----> \u001b[39m\u001b[32m6\u001b[39m pysqldf = \u001b[38;5;28;01mlambda\u001b[39;00m q: \u001b[43msqldf\u001b[49m\u001b[43m(\u001b[49m\u001b[43mq\u001b[49m\u001b[43m,\u001b[49m\u001b[43m \u001b[49m\u001b[38;5;28;43mglobals\u001b[39;49m\u001b[43m(\u001b[49m\u001b[43m)\u001b[49m\u001b[43m)\u001b[49m\n\u001b[32m      8\u001b[39m \u001b[38;5;129m@tool\u001b[39m\n\u001b[32m      9\u001b[39m \u001b[38;5;28;01mdef\u001b[39;00m\u001b[38;5;250m \u001b[39m\u001b[34mdataframe_and_collection\u001b[39m(dataframe:pd.DataFrame, query: \u001b[38;5;28mstr\u001b[39m) -> pd.DataFrame:\n\u001b[32m     10\u001b[39m \u001b[38;5;250m    \u001b[39m\u001b[33;03m\"\"\"  use this tool to create queries and display results in the form of pandas dataframe\"\"\"\u001b[39;00m\n",
      "\u001b[36mFile \u001b[39m\u001b[32m/workspaces/new_rag/.venv/lib/python3.12/site-packages/pandasql/sqldf.py:156\u001b[39m, in \u001b[36msqldf\u001b[39m\u001b[34m(query, env, db_uri)\u001b[39m\n\u001b[32m    124\u001b[39m \u001b[38;5;28;01mdef\u001b[39;00m\u001b[38;5;250m \u001b[39m\u001b[34msqldf\u001b[39m(query, env=\u001b[38;5;28;01mNone\u001b[39;00m, db_uri=\u001b[33m'\u001b[39m\u001b[33msqlite:///:memory:\u001b[39m\u001b[33m'\u001b[39m):\n\u001b[32m    125\u001b[39m \u001b[38;5;250m    \u001b[39m\u001b[33;03m\"\"\"\u001b[39;00m\n\u001b[32m    126\u001b[39m \u001b[33;03m    Query pandas data frames using sql syntax\u001b[39;00m\n\u001b[32m    127\u001b[39m \u001b[33;03m    This function is meant for backward compatibility only. New users are encouraged to use the PandaSQL class.\u001b[39;00m\n\u001b[32m   (...)\u001b[39m\u001b[32m    154\u001b[39m \u001b[33;03m    >>> sqldf(\"select avg(x) from df;\", locals())\u001b[39;00m\n\u001b[32m    155\u001b[39m \u001b[33;03m    \"\"\"\u001b[39;00m\n\u001b[32m--> \u001b[39m\u001b[32m156\u001b[39m     \u001b[38;5;28;01mreturn\u001b[39;00m \u001b[43mPandaSQL\u001b[49m\u001b[43m(\u001b[49m\u001b[43mdb_uri\u001b[49m\u001b[43m)\u001b[49m\u001b[43m(\u001b[49m\u001b[43mquery\u001b[49m\u001b[43m,\u001b[49m\u001b[43m \u001b[49m\u001b[43menv\u001b[49m\u001b[43m)\u001b[49m\n",
      "\u001b[36mFile \u001b[39m\u001b[32m/workspaces/new_rag/.venv/lib/python3.12/site-packages/pandasql/sqldf.py:63\u001b[39m, in \u001b[36mPandaSQL.__call__\u001b[39m\u001b[34m(self, query, env)\u001b[39m\n\u001b[32m     61\u001b[39m     result = read_sql(query, conn)\n\u001b[32m     62\u001b[39m \u001b[38;5;28;01mexcept\u001b[39;00m DatabaseError \u001b[38;5;28;01mas\u001b[39;00m ex:\n\u001b[32m---> \u001b[39m\u001b[32m63\u001b[39m     \u001b[38;5;28;01mraise\u001b[39;00m PandaSQLException(ex)\n\u001b[32m     64\u001b[39m \u001b[38;5;28;01mexcept\u001b[39;00m ResourceClosedError:\n\u001b[32m     65\u001b[39m     \u001b[38;5;66;03m# query returns nothing\u001b[39;00m\n\u001b[32m     66\u001b[39m     result = \u001b[38;5;28;01mNone\u001b[39;00m\n",
      "\u001b[31mPandaSQLException\u001b[39m: (sqlite3.OperationalError) near \"To\": syntax error\n[SQL: To achieve the user's objective, you can use the following SQL query in pandasql:\n\n```sql\nSELECT * FROM info WHERE Age > 30\n```\n\nThis query will return all rows from the `info` dataframe where the `Age` is greater than 30.\n\nHere's how you can execute this query using pandasql:\n\n```python\nimport pandas as pd\nfrom pandasql import sqldf\n\n# assuming 'info' is your dataframe\ninfo = pd.DataFrame({\n    'Name': ['John', 'Anna', 'Peter', 'Linda'],\n    'Age': [25, 35, 40, 20],\n    'City': ['New York', 'Paris', 'Berlin', 'London']\n})\n\n# create a sqldf object\npysqldf = sqldf\n\n# execute the query\nresult_df = pysqldf(\"SELECT * FROM info WHERE Age > 30\")\n\nprint(result_df)\n```\n\nIn this example, the `result_df` will contain all rows from the `info` dataframe where the `Age` is greater than 30. The output will be:\n\n```\n    Name  Age     City\n1   Anna   35    Paris\n2  Peter   40   Berlin\n```]\n(Background on this error at: https://sqlalche.me/e/20/e3q8)"
     ]
    }
   ],
   "source": [
    "dataframe_and_collection.invoke({\"dataframe\": df, \"query\": \"give me all the rows where age is greater than 30\"})"
   ]
  },
  {
   "cell_type": "code",
   "execution_count": 107,
   "id": "334c4ab0",
   "metadata": {},
   "outputs": [],
   "source": [
    "@tool\n",
    "def dataframe_query(dataframe,query):\n",
    "    \"\"\"You are given a dataframe info and a query from user regarding dataframe, your job is to write SQL query that suffices the user's objective \n",
    "    note that query so given must run on pandasql \n",
    "    use pysql to query the dataframe and return a pandas dataframe\n",
    "    ### Inputs :\n",
    "        - dataframe: The name of the dataframe to be queried.\n",
    "        - query: The user's query regarding the dataframe.\n",
    "    ### Output:\n",
    "        - SQL query (Assume name of the dataframe to be df)\n",
    "    ### Instructions:\n",
    "        1. Don't give any explanation or additional information or preamble in query, just return the  query .\n",
    "    ### Example Output: \n",
    "    query 1: \"give me all the rows where age is less than 30\"\n",
    "    output 1: \"SELECT * FROM df WHERE Age < 30\"\n",
    "\n",
    "    \"\"\"\n",
    "    \n",
    "    buffer = io.StringIO()\n",
    "    df.info(buf=buffer)\n",
    "    s = buffer.getvalue()\n",
    "    # Ensure that the prompt is correctly formatted\n",
    "    prompt = PromptTemplate(\n",
    "        input_variables=[s, query],\n",
    "        template=f\"\"\"You are given a dataframe whose name is df and dataframe_info  {s} and a {query} from user regarding dataframe, your job is to write SQL query that suffices the user's objective \n",
    "        note that only query must be returned and nothing else\n",
    "        \"\"\"\n",
    "    )\n",
    "    #prompt = prompt.format(dataframe=dataframe, query=query)\n",
    "\n",
    "    # Ensure that chain is defined and can invoke the LLM\n",
    "    chain = prompt | llm  # This line needs to be valid in your context\n",
    "    response = chain.invoke({\"dataframe_info\": s, \"query\": query}).content\n",
    "    return pysqldf(response)"
   ]
  },
  {
   "cell_type": "code",
   "execution_count": 103,
   "id": "480fab89",
   "metadata": {},
   "outputs": [
    {
     "ename": "SyntaxError",
     "evalue": "unexpected character after line continuation character (2099577655.py, line 1)",
     "output_type": "error",
     "traceback": [
      "  \u001b[36mCell\u001b[39m\u001b[36m \u001b[39m\u001b[32mIn[103]\u001b[39m\u001b[32m, line 1\u001b[39m\n\u001b[31m    \u001b[39m\u001b[31m\"pysqldf(\"\\n\".join(response.split(\"\\n\")[1:-1])\")\"\"\u001b[39m\n               ^\n\u001b[31mSyntaxError\u001b[39m\u001b[31m:\u001b[39m unexpected character after line continuation character\n"
     ]
    }
   ],
   "source": [
    "\"pysqldf(\"\\n\".join(response.split(\"\\n\")[1:-1])\")\"\""
   ]
  },
  {
   "cell_type": "code",
   "execution_count": 108,
   "id": "9ae1d2fb",
   "metadata": {},
   "outputs": [],
   "source": [
    "fx=dataframe_query.invoke({\"dataframe\":df,\"query\":\"how many people are there \"})"
   ]
  },
  {
   "cell_type": "code",
   "execution_count": 109,
   "id": "b5014b6e",
   "metadata": {},
   "outputs": [
    {
     "data": {
      "text/html": [
       "<div>\n",
       "<style scoped>\n",
       "    .dataframe tbody tr th:only-of-type {\n",
       "        vertical-align: middle;\n",
       "    }\n",
       "\n",
       "    .dataframe tbody tr th {\n",
       "        vertical-align: top;\n",
       "    }\n",
       "\n",
       "    .dataframe thead th {\n",
       "        text-align: right;\n",
       "    }\n",
       "</style>\n",
       "<table border=\"1\" class=\"dataframe\">\n",
       "  <thead>\n",
       "    <tr style=\"text-align: right;\">\n",
       "      <th></th>\n",
       "      <th>COUNT(Age)</th>\n",
       "    </tr>\n",
       "  </thead>\n",
       "  <tbody>\n",
       "    <tr>\n",
       "      <th>0</th>\n",
       "      <td>4</td>\n",
       "    </tr>\n",
       "  </tbody>\n",
       "</table>\n",
       "</div>"
      ],
      "text/plain": [
       "   COUNT(Age)\n",
       "0           4"
      ]
     },
     "execution_count": 109,
     "metadata": {},
     "output_type": "execute_result"
    }
   ],
   "source": [
    "fx"
   ]
  },
  {
   "cell_type": "code",
   "execution_count": 86,
   "id": "a50b50ac",
   "metadata": {},
   "outputs": [
    {
     "data": {
      "text/html": [
       "<div>\n",
       "<style scoped>\n",
       "    .dataframe tbody tr th:only-of-type {\n",
       "        vertical-align: middle;\n",
       "    }\n",
       "\n",
       "    .dataframe tbody tr th {\n",
       "        vertical-align: top;\n",
       "    }\n",
       "\n",
       "    .dataframe thead th {\n",
       "        text-align: right;\n",
       "    }\n",
       "</style>\n",
       "<table border=\"1\" class=\"dataframe\">\n",
       "  <thead>\n",
       "    <tr style=\"text-align: right;\">\n",
       "      <th></th>\n",
       "      <th>Name</th>\n",
       "      <th>Age</th>\n",
       "      <th>City</th>\n",
       "    </tr>\n",
       "  </thead>\n",
       "  <tbody>\n",
       "    <tr>\n",
       "      <th>0</th>\n",
       "      <td>Alice</td>\n",
       "      <td>25</td>\n",
       "      <td>New York</td>\n",
       "    </tr>\n",
       "    <tr>\n",
       "      <th>1</th>\n",
       "      <td>Bob</td>\n",
       "      <td>30</td>\n",
       "      <td>Los Angeles</td>\n",
       "    </tr>\n",
       "  </tbody>\n",
       "</table>\n",
       "</div>"
      ],
      "text/plain": [
       "    Name  Age         City\n",
       "0  Alice   25     New York\n",
       "1    Bob   30  Los Angeles"
      ]
     },
     "execution_count": 86,
     "metadata": {},
     "output_type": "execute_result"
    }
   ],
   "source": [
    "pysqldf(\"\\n\".join(response.split(\"\\n\")[1:-1]))"
   ]
  },
  {
   "cell_type": "code",
   "execution_count": 57,
   "id": "56911a9d",
   "metadata": {},
   "outputs": [],
   "source": [
    "buffer = io.StringIO()\n",
    "df.info(buf=buffer)\n",
    "s = buffer.getvalue()"
   ]
  },
  {
   "cell_type": "code",
   "execution_count": 121,
   "id": "3a96beaa",
   "metadata": {},
   "outputs": [
    {
     "name": "stderr",
     "output_type": "stream",
     "text": [
      "No artists with labels found to put in legend.  Note that artists whose label start with an underscore are ignored when legend() is called with no argument.\n"
     ]
    },
    {
     "name": "stdout",
     "output_type": "stream",
     "text": [
      "\n",
      "===== Generated Visualization Code =====\n",
      "\n",
      "```python\n",
      "import pandas as pd\n",
      "import seaborn as sns\n",
      "import matplotlib.pyplot as plt\n",
      "\n",
      "df = book1.copy()\n",
      "print(df.info())\n",
      "\n",
      "age_mean = df['Age'].mean()\n",
      "age_std = df['Age'].std()\n",
      "\n",
      "plt.figure(figsize=(10,6))\n",
      "sns.countplot(data=df, x='City')\n",
      "plt.title('City Distribution')\n",
      "plt.show()\n",
      "\n",
      "plt.figure(figsize=(10,6))\n",
      "sns.histplot(data=df, x='Age', kde=True)\n",
      "plt.title('Age Distribution')\n",
      "plt.axvline(age_mean, color='r', linestyle='dashed', label='Mean')\n",
      "plt.legend()\n",
      "plt.show()\n",
      "```\n",
      "\n",
      "===== Executing Code =====\n",
      "\n",
      "Error executing ````python`: invalid syntax (<string>, line 1)\n",
      "<class 'pandas.core.frame.DataFrame'>\n",
      "RangeIndex: 4 entries, 0 to 3\n",
      "Data columns (total 3 columns):\n",
      " #   Column  Non-Null Count  Dtype \n",
      "---  ------  --------------  ----- \n",
      " 0   Name    4 non-null      object\n",
      " 1   Age     4 non-null      int64 \n",
      " 2   City    4 non-null      object\n",
      "dtypes: int64(1), object(2)\n",
      "memory usage: 228.0+ bytes\n",
      "None\n",
      "Error executing `````: invalid syntax (<string>, line 1)\n"
     ]
    }
   ],
   "source": [
    "import os\n",
    "import io\n",
    "import pandas as pd\n",
    "import seaborn as sns\n",
    "import matplotlib.pyplot as plt\n",
    "from langchain.chains import LLMChain\n",
    "from langchain.prompts import PromptTemplate\n",
    "from dotenv import load_dotenv\n",
    "\n",
    "def capture_df_info(df: pd.DataFrame) -> str:\n",
    "    \"\"\"\n",
    "    Capture the output of df.info() into a string.\n",
    "    \"\"\"\n",
    "    buffer = io.StringIO()\n",
    "    df.info(buf=buffer)\n",
    "    return buffer.getvalue()\n",
    "\n",
    "def generate_visualization_code(df_infos: dict, purpose: str) -> str:\n",
    "    \"\"\"\n",
    "    Given a mapping of dataframe names to their info-strings and an analysis purpose,\n",
    "    returns only the seaborn/matplotlib code needed for the visualization.\n",
    "    \"\"\"\n",
    "    prompt_template = \"\"\"\n",
    "You are a data analysis expert. The user has these dataframes (with info shown) \n",
    "and wants to achieve a given analysis purpose.\n",
    "\n",
    "### Instructions:\n",
    "1) Do NOT tamper with original dataframes; use df.copy() if needed.\n",
    "2) Always reference df.info() to confirm column names and dtypes.\n",
    "3) Do NOT hallucinate column names: only use those present.\n",
    "4) Recommend the single best chart or minimal set of charts.\n",
    "5) If merging is needed, do it within the sns call.\n",
    "6) Do all data calculations on separate lines before plotting.\n",
    "7) Output ONLY the Python code lines (no comments, no narrative ,no preamble).\n",
    "\n",
    "### DataFrames Info:\n",
    "{df_infos}\n",
    "\n",
    "### Purpose of Analysis:\n",
    "{purpose}\n",
    "\n",
    "\n",
    "### Example output code:\n",
    "\n",
    "import pandas\n",
    "import numpy\n",
    "\n",
    "df.info()\n",
    "\"\"\"\n",
    "    template = PromptTemplate(\n",
    "        input_variables=[\"df_infos\", \"purpose\"],\n",
    "        template=prompt_template\n",
    "    )\n",
    "    chain = template|llm\n",
    "    code = chain.invoke({\n",
    "        \"df_infos\": df_infos,\n",
    "        \"purpose\": purpose\n",
    "    })\n",
    "    return code.content.strip()\n",
    "\n",
    "def main():\n",
    "    # 1) Load CSV files from a directory or list\n",
    "    csv_dir = \"/workspaces/new_rag/data\"  # update this path if needed\n",
    "    dfs = {}\n",
    "    df_infos = {}\n",
    "    for fname in os.listdir(csv_dir):\n",
    "        if fname.lower().endswith(\".csv\"):\n",
    "            path = os.path.join(csv_dir, fname)\n",
    "            name = os.path.splitext(fname)[0]\n",
    "            df = pd.read_csv(path)\n",
    "            dfs[name] = df\n",
    "            df_infos[name] = capture_df_info(df)\n",
    "\n",
    "    # 2) Get analysis purpose from user input\n",
    "    purpose = input(\"Enter the purpose of analysis: \").strip()\n",
    "    if not purpose:\n",
    "        print(\"No purpose entered. Exiting.\")\n",
    "        return\n",
    "\n",
    "    # 3) Generate visualization code\n",
    "    code = generate_visualization_code(df_infos, purpose)\n",
    "    print(\"\\n===== Generated Visualization Code =====\\n\")\n",
    "    print(code)\n",
    "    print(\"\\n===== Executing Code =====\\n\")\n",
    "\n",
    "    # 4) Execute and display plots\n",
    "    #    This will show plots in a matplotlib window\n",
    "    global_vars = dfs.copy()\n",
    "    for line in code.splitlines():\n",
    "        try:\n",
    "            # Execute any preprocessing or new column creation\n",
    "            if not line.lstrip().startswith((\"sns.\", \"plt.\")):\n",
    "                exec(line, global_vars)\n",
    "            else:\n",
    "                plt.figure(figsize=(10, 6))\n",
    "                exec(line, global_vars)\n",
    "                plt.show()\n",
    "        except Exception as e:\n",
    "            print(f\"Error executing `{line}`: {e}\")\n",
    "\n",
    "if __name__ == \"__main__\":\n",
    "    main()\n"
   ]
  },
  {
   "cell_type": "code",
   "execution_count": 114,
   "id": "4661183b",
   "metadata": {},
   "outputs": [],
   "source": [
    "df.to_csv(\"/workspaces/new_rag/data/book1.csv\",index=False)"
   ]
  },
  {
   "cell_type": "code",
   "execution_count": null,
   "id": "8fcc73c2",
   "metadata": {},
   "outputs": [],
   "source": []
  },
  {
   "cell_type": "code",
   "execution_count": null,
   "id": "32a0e96b",
   "metadata": {},
   "outputs": [],
   "source": []
  },
  {
   "cell_type": "code",
   "execution_count": null,
   "id": "4817d4a1",
   "metadata": {},
   "outputs": [],
   "source": []
  },
  {
   "cell_type": "code",
   "execution_count": null,
   "id": "a19106b2",
   "metadata": {},
   "outputs": [],
   "source": []
  },
  {
   "cell_type": "code",
   "execution_count": null,
   "id": "f03a1e34",
   "metadata": {},
   "outputs": [],
   "source": []
  },
  {
   "cell_type": "code",
   "execution_count": null,
   "id": "a932958f",
   "metadata": {},
   "outputs": [],
   "source": []
  },
  {
   "cell_type": "code",
   "execution_count": null,
   "id": "29539463",
   "metadata": {},
   "outputs": [],
   "source": []
  },
  {
   "cell_type": "code",
   "execution_count": null,
   "id": "b41045e4",
   "metadata": {},
   "outputs": [],
   "source": []
  },
  {
   "cell_type": "code",
   "execution_count": null,
   "id": "d74dde94",
   "metadata": {},
   "outputs": [],
   "source": []
  },
  {
   "cell_type": "code",
   "execution_count": null,
   "id": "b05ff72c",
   "metadata": {},
   "outputs": [],
   "source": []
  },
  {
   "cell_type": "code",
   "execution_count": null,
   "id": "ffc61bdb",
   "metadata": {},
   "outputs": [],
   "source": []
  },
  {
   "cell_type": "code",
   "execution_count": null,
   "id": "121b5f76",
   "metadata": {},
   "outputs": [],
   "source": []
  },
  {
   "cell_type": "code",
   "execution_count": null,
   "id": "5cf43b2d",
   "metadata": {},
   "outputs": [],
   "source": []
  },
  {
   "cell_type": "code",
   "execution_count": null,
   "id": "df178649",
   "metadata": {},
   "outputs": [],
   "source": []
  },
  {
   "cell_type": "code",
   "execution_count": null,
   "id": "586ab3aa",
   "metadata": {},
   "outputs": [],
   "source": []
  },
  {
   "cell_type": "code",
   "execution_count": null,
   "id": "cf5c004f",
   "metadata": {},
   "outputs": [],
   "source": []
  },
  {
   "cell_type": "code",
   "execution_count": null,
   "id": "2b5ce9f5",
   "metadata": {},
   "outputs": [],
   "source": []
  },
  {
   "cell_type": "code",
   "execution_count": null,
   "id": "b7978d32",
   "metadata": {},
   "outputs": [],
   "source": []
  },
  {
   "cell_type": "code",
   "execution_count": null,
   "id": "91ece789",
   "metadata": {},
   "outputs": [],
   "source": []
  },
  {
   "cell_type": "code",
   "execution_count": null,
   "id": "6059735a",
   "metadata": {},
   "outputs": [],
   "source": []
  },
  {
   "cell_type": "code",
   "execution_count": null,
   "id": "a936d7a8",
   "metadata": {},
   "outputs": [],
   "source": []
  },
  {
   "cell_type": "code",
   "execution_count": null,
   "id": "d55438a8",
   "metadata": {},
   "outputs": [],
   "source": []
  },
  {
   "cell_type": "code",
   "execution_count": null,
   "id": "2ecad364",
   "metadata": {},
   "outputs": [],
   "source": []
  },
  {
   "cell_type": "code",
   "execution_count": null,
   "id": "a0a9a92f",
   "metadata": {},
   "outputs": [],
   "source": []
  },
  {
   "cell_type": "code",
   "execution_count": null,
   "id": "16491c93",
   "metadata": {},
   "outputs": [],
   "source": []
  },
  {
   "cell_type": "code",
   "execution_count": null,
   "id": "0cbcdb54",
   "metadata": {},
   "outputs": [],
   "source": []
  },
  {
   "cell_type": "code",
   "execution_count": null,
   "id": "2a78650a",
   "metadata": {},
   "outputs": [],
   "source": []
  },
  {
   "cell_type": "code",
   "execution_count": null,
   "id": "5765d86c",
   "metadata": {},
   "outputs": [],
   "source": []
  },
  {
   "cell_type": "code",
   "execution_count": null,
   "id": "4c86eb77",
   "metadata": {},
   "outputs": [],
   "source": []
  },
  {
   "cell_type": "code",
   "execution_count": null,
   "id": "d0147347",
   "metadata": {},
   "outputs": [],
   "source": []
  },
  {
   "cell_type": "code",
   "execution_count": null,
   "id": "452d50c0",
   "metadata": {},
   "outputs": [],
   "source": []
  },
  {
   "cell_type": "code",
   "execution_count": null,
   "id": "24aec7ff",
   "metadata": {},
   "outputs": [],
   "source": []
  },
  {
   "cell_type": "code",
   "execution_count": null,
   "id": "abdb6fe5",
   "metadata": {},
   "outputs": [],
   "source": []
  },
  {
   "cell_type": "code",
   "execution_count": null,
   "id": "3634caf9",
   "metadata": {},
   "outputs": [],
   "source": []
  },
  {
   "cell_type": "code",
   "execution_count": null,
   "id": "74942898",
   "metadata": {},
   "outputs": [],
   "source": []
  },
  {
   "cell_type": "code",
   "execution_count": null,
   "id": "1b4133b8",
   "metadata": {},
   "outputs": [],
   "source": []
  },
  {
   "cell_type": "code",
   "execution_count": null,
   "id": "4c2cbee1",
   "metadata": {},
   "outputs": [],
   "source": []
  },
  {
   "cell_type": "code",
   "execution_count": null,
   "id": "e8b37691",
   "metadata": {},
   "outputs": [],
   "source": []
  },
  {
   "cell_type": "code",
   "execution_count": null,
   "id": "d0c2cfa5",
   "metadata": {},
   "outputs": [],
   "source": []
  },
  {
   "cell_type": "code",
   "execution_count": null,
   "id": "2e931724",
   "metadata": {},
   "outputs": [],
   "source": []
  },
  {
   "cell_type": "code",
   "execution_count": null,
   "id": "fab5b29c",
   "metadata": {},
   "outputs": [],
   "source": []
  },
  {
   "cell_type": "code",
   "execution_count": null,
   "id": "0b75dcaa",
   "metadata": {},
   "outputs": [],
   "source": []
  },
  {
   "cell_type": "code",
   "execution_count": null,
   "id": "c4bef157",
   "metadata": {},
   "outputs": [],
   "source": []
  },
  {
   "cell_type": "code",
   "execution_count": null,
   "id": "432583a6",
   "metadata": {},
   "outputs": [],
   "source": []
  },
  {
   "cell_type": "code",
   "execution_count": null,
   "id": "d26a4010",
   "metadata": {},
   "outputs": [],
   "source": []
  },
  {
   "cell_type": "code",
   "execution_count": null,
   "id": "ba9da2fb",
   "metadata": {},
   "outputs": [],
   "source": []
  },
  {
   "cell_type": "code",
   "execution_count": null,
   "id": "099d139f",
   "metadata": {},
   "outputs": [],
   "source": []
  },
  {
   "cell_type": "code",
   "execution_count": null,
   "id": "909c1dbe",
   "metadata": {},
   "outputs": [],
   "source": []
  },
  {
   "cell_type": "code",
   "execution_count": null,
   "id": "39dac92f",
   "metadata": {},
   "outputs": [],
   "source": []
  },
  {
   "cell_type": "code",
   "execution_count": null,
   "id": "e0353ff9",
   "metadata": {},
   "outputs": [],
   "source": []
  },
  {
   "cell_type": "code",
   "execution_count": null,
   "id": "2d9bddb6",
   "metadata": {},
   "outputs": [],
   "source": []
  },
  {
   "cell_type": "code",
   "execution_count": null,
   "id": "504b2c1d",
   "metadata": {},
   "outputs": [],
   "source": []
  },
  {
   "cell_type": "code",
   "execution_count": null,
   "id": "f6b624ca",
   "metadata": {},
   "outputs": [],
   "source": []
  },
  {
   "cell_type": "code",
   "execution_count": null,
   "id": "92235297",
   "metadata": {},
   "outputs": [],
   "source": []
  },
  {
   "cell_type": "code",
   "execution_count": null,
   "id": "b96e46f7",
   "metadata": {},
   "outputs": [],
   "source": []
  },
  {
   "cell_type": "code",
   "execution_count": null,
   "id": "e1668277",
   "metadata": {},
   "outputs": [],
   "source": []
  },
  {
   "cell_type": "code",
   "execution_count": null,
   "id": "b6c7c98c",
   "metadata": {},
   "outputs": [],
   "source": []
  },
  {
   "cell_type": "code",
   "execution_count": null,
   "id": "6a759db3",
   "metadata": {},
   "outputs": [],
   "source": []
  },
  {
   "cell_type": "code",
   "execution_count": null,
   "id": "39943a49",
   "metadata": {},
   "outputs": [],
   "source": []
  },
  {
   "cell_type": "code",
   "execution_count": null,
   "id": "8e757d08",
   "metadata": {},
   "outputs": [],
   "source": []
  },
  {
   "cell_type": "code",
   "execution_count": null,
   "id": "8962c5ef",
   "metadata": {},
   "outputs": [],
   "source": []
  },
  {
   "cell_type": "code",
   "execution_count": null,
   "id": "f482ac58",
   "metadata": {},
   "outputs": [],
   "source": []
  },
  {
   "cell_type": "code",
   "execution_count": null,
   "id": "2f4e5113",
   "metadata": {},
   "outputs": [],
   "source": []
  },
  {
   "cell_type": "code",
   "execution_count": null,
   "id": "dfb67760",
   "metadata": {},
   "outputs": [],
   "source": []
  },
  {
   "cell_type": "code",
   "execution_count": null,
   "id": "281dc196",
   "metadata": {},
   "outputs": [],
   "source": []
  },
  {
   "cell_type": "code",
   "execution_count": null,
   "id": "1142606d",
   "metadata": {},
   "outputs": [],
   "source": []
  },
  {
   "cell_type": "code",
   "execution_count": null,
   "id": "898a141d",
   "metadata": {},
   "outputs": [],
   "source": []
  },
  {
   "cell_type": "code",
   "execution_count": null,
   "id": "187e0a4d",
   "metadata": {},
   "outputs": [],
   "source": []
  },
  {
   "cell_type": "code",
   "execution_count": null,
   "id": "305dae26",
   "metadata": {},
   "outputs": [],
   "source": []
  },
  {
   "cell_type": "code",
   "execution_count": null,
   "id": "a03ca216",
   "metadata": {},
   "outputs": [],
   "source": []
  },
  {
   "cell_type": "code",
   "execution_count": null,
   "id": "f2716df1",
   "metadata": {},
   "outputs": [],
   "source": []
  },
  {
   "cell_type": "code",
   "execution_count": null,
   "id": "919bc628",
   "metadata": {},
   "outputs": [],
   "source": []
  },
  {
   "cell_type": "code",
   "execution_count": null,
   "id": "dd842801",
   "metadata": {},
   "outputs": [],
   "source": []
  },
  {
   "cell_type": "code",
   "execution_count": null,
   "id": "7cfdb302",
   "metadata": {},
   "outputs": [],
   "source": []
  },
  {
   "cell_type": "code",
   "execution_count": null,
   "id": "d5b3dc67",
   "metadata": {},
   "outputs": [],
   "source": []
  },
  {
   "cell_type": "code",
   "execution_count": null,
   "id": "d8305c25",
   "metadata": {},
   "outputs": [],
   "source": []
  },
  {
   "cell_type": "code",
   "execution_count": null,
   "id": "51dde019",
   "metadata": {},
   "outputs": [],
   "source": []
  },
  {
   "cell_type": "code",
   "execution_count": null,
   "id": "5055a39f",
   "metadata": {},
   "outputs": [],
   "source": []
  },
  {
   "cell_type": "code",
   "execution_count": null,
   "id": "31a5e3a0",
   "metadata": {},
   "outputs": [],
   "source": []
  },
  {
   "cell_type": "code",
   "execution_count": null,
   "id": "e3455a13",
   "metadata": {},
   "outputs": [],
   "source": []
  },
  {
   "cell_type": "code",
   "execution_count": null,
   "id": "3b4b82f2",
   "metadata": {},
   "outputs": [],
   "source": []
  },
  {
   "cell_type": "code",
   "execution_count": null,
   "id": "ce0f6fc4",
   "metadata": {},
   "outputs": [],
   "source": []
  },
  {
   "cell_type": "code",
   "execution_count": null,
   "id": "2e23cf1e",
   "metadata": {},
   "outputs": [],
   "source": []
  },
  {
   "cell_type": "code",
   "execution_count": null,
   "id": "09f2b8f8",
   "metadata": {},
   "outputs": [],
   "source": []
  },
  {
   "cell_type": "code",
   "execution_count": null,
   "id": "4938cf3a",
   "metadata": {},
   "outputs": [],
   "source": []
  },
  {
   "cell_type": "code",
   "execution_count": null,
   "id": "cb7f412a",
   "metadata": {},
   "outputs": [],
   "source": []
  },
  {
   "cell_type": "code",
   "execution_count": null,
   "id": "60f4393b",
   "metadata": {},
   "outputs": [],
   "source": []
  },
  {
   "cell_type": "code",
   "execution_count": null,
   "id": "81100c44",
   "metadata": {},
   "outputs": [],
   "source": []
  },
  {
   "cell_type": "code",
   "execution_count": null,
   "id": "582c1755",
   "metadata": {},
   "outputs": [],
   "source": []
  },
  {
   "cell_type": "code",
   "execution_count": null,
   "id": "f84f22b2",
   "metadata": {},
   "outputs": [],
   "source": []
  },
  {
   "cell_type": "code",
   "execution_count": null,
   "id": "ef996c16",
   "metadata": {},
   "outputs": [],
   "source": []
  }
 ],
 "metadata": {
  "kernelspec": {
   "display_name": ".venv",
   "language": "python",
   "name": "python3"
  },
  "language_info": {
   "codemirror_mode": {
    "name": "ipython",
    "version": 3
   },
   "file_extension": ".py",
   "mimetype": "text/x-python",
   "name": "python",
   "nbconvert_exporter": "python",
   "pygments_lexer": "ipython3",
   "version": "3.12.1"
  }
 },
 "nbformat": 4,
 "nbformat_minor": 5
}
