{
 "cells": [
  {
   "cell_type": "code",
   "execution_count": 1,
   "id": "3ebced9a",
   "metadata": {},
   "outputs": [
    {
     "name": "stderr",
     "output_type": "stream",
     "text": [
      "/tmp/ipykernel_24995/3720885069.py:1: LangChainDeprecationWarning: As of langchain-core 0.3.0, LangChain uses pydantic v2 internally. The langchain_core.pydantic_v1 module was a compatibility shim for pydantic v1, and should no longer be used. Please update the code to import from Pydantic directly.\n",
      "\n",
      "For example, replace imports like: `from langchain_core.pydantic_v1 import BaseModel`\n",
      "with: `from pydantic import BaseModel`\n",
      "or the v1 compatibility namespace if you are working in a code base that has not been fully upgraded to pydantic 2 yet. \tfrom pydantic.v1 import BaseModel\n",
      "\n",
      "  import app\n"
     ]
    }
   ],
   "source": [
    "import app"
   ]
  },
  {
   "cell_type": "code",
   "execution_count": null,
   "id": "084b3a99",
   "metadata": {},
   "outputs": [
    {
     "ename": "AttributeError",
     "evalue": "module 'app' has no attribute 'invoke'",
     "output_type": "error",
     "traceback": [
      "\u001b[31m---------------------------------------------------------------------------\u001b[39m",
      "\u001b[31mAttributeError\u001b[39m                            Traceback (most recent call last)",
      "\u001b[36mCell\u001b[39m\u001b[36m \u001b[39m\u001b[32mIn[2]\u001b[39m\u001b[32m, line 1\u001b[39m\n\u001b[32m----> \u001b[39m\u001b[32m1\u001b[39m \u001b[43mapp\u001b[49m\u001b[43m.\u001b[49m\u001b[43minvoke\u001b[49m({\u001b[33m\"\u001b[39m\u001b[33mmessage\u001b[39m\u001b[33m\"\u001b[39m:[\u001b[33m\"\u001b[39m\u001b[33mhi\u001b[39m\u001b[33m\"\u001b[39m]})\n",
      "\u001b[31mAttributeError\u001b[39m: module 'app' has no attribute 'invoke'"
     ]
    }
   ],
   "source": [
    "from app import graph\n",
    "app.invoke({\"message\":[\"hi\"]})"
   ]
  },
  {
   "cell_type": "code",
   "execution_count": 1,
   "metadata": {},
   "outputs": [
    {
     "name": "stderr",
     "output_type": "stream",
     "text": [
      "/workspaces/new_rag/research/tools/pandas_tool.py:10: LangChainDeprecationWarning: As of langchain-core 0.3.0, LangChain uses pydantic v2 internally. The langchain_core.pydantic_v1 module was a compatibility shim for pydantic v1, and should no longer be used. Please update the code to import from Pydantic directly.\n",
      "\n",
      "For example, replace imports like: `from langchain_core.pydantic_v1 import BaseModel`\n",
      "with: `from pydantic import BaseModel`\n",
      "or the v1 compatibility namespace if you are working in a code base that has not been fully upgraded to pydantic 2 yet. \tfrom pydantic.v1 import BaseModel\n",
      "\n",
      "  from .state import GraphState\n"
     ]
    }
   ],
   "source": [
    "from typing import List, Annotated, TypedDict\n",
    "from pydantic import BaseModel, Field\n",
    "\n",
    "from langgraph.graph import StateGraph, START, END\n",
    "from langgraph.graph.message import add_messages\n",
    "from langgraph.prebuilt import ToolNode, tools_condition\n",
    "\n",
    "from langchain_core.messages import BaseMessage, HumanMessage, AIMessage\n",
    "from langchain_core.tools import tool\n",
    "\n",
    "# Your local modules\n",
    "from research.helpers import LLM\n",
    "from research.tools import pandas_tool, sql_tool, rag_tool\n",
    "\n",
    "# -------------------------\n",
    "# Graph state\n",
    "# -------------------------\n",
    "class GraphState(TypedDict, total=False):\n",
    "    messages: Annotated[List[BaseMessage], add_messages]\n",
    "    inputs: str\n",
    "\n",
    "# -------------------------\n",
    "# Wrap existing functions as LangChain Tools\n",
    "# (names can be anything, but they must match what the LLM may call)\n",
    "# -------------------------\n",
    "@tool\n",
    "def pandas_exec(query: str) -> str:\n",
    "    \"\"\"Run a pandas task on in-memory data as described by `query`.\"\"\"\n",
    "    return str(pandas_tool.pandas_tool(query))\n",
    "\n",
    "@tool\n",
    "def sql_exec(query: str) -> str:\n",
    "    \"\"\"Run a SQL/pandasql task described by `query`.\"\"\"\n",
    "    return str(sql_tool.pandasql_tool(query))\n",
    "\n",
    "@tool\n",
    "def rag_exec(query: str) -> str:\n",
    "    \"\"\"Run a retrieval-augmented lookup to answer `query`.\"\"\"\n",
    "    return str(rag_tool.rag_tool(query))\n",
    "\n",
    "TOOLS = [pandas_exec, sql_exec, rag_exec]\n",
    "\n",
    "# -------------------------\n",
    "# Build the graph\n",
    "# -------------------------\n",
    "def create_graph():\n",
    "    builder = StateGraph(GraphState)\n",
    "\n",
    "    # 1) Agent node: call model *bound to tools* so it can emit tool_calls\n",
    "    agent_llm = LLM().llm.bind_tools(TOOLS)\n",
    "\n",
    "    def agent_node(state: GraphState) -> GraphState:\n",
    "        msgs = state.get(\"messages\", [])\n",
    "        # Ensure the latest user input is present as a HumanMessage\n",
    "        if not msgs or not isinstance(msgs[-1], HumanMessage):\n",
    "            msgs = msgs + [HumanMessage(content=state[\"inputs\"])]\n",
    "\n",
    "        ai = agent_llm.invoke(msgs)   # may include tool_calls\n",
    "        return {\"messages\": [ai]}\n",
    "\n",
    "    # 2) Tools node: executes tool_calls found in the last AI message\n",
    "    tools_node = ToolNode(TOOLS)\n",
    "\n",
    "    # 3) Register nodes\n",
    "    builder.add_node(\"agent\", agent_node)\n",
    "    builder.add_node(\"tools\", tools_node)\n",
    "\n",
    "    # 4) Wire edges\n",
    "    builder.add_edge(START, \"agent\")\n",
    "\n",
    "    # If the LLM requested a tool, go to ToolNode; else, END.\n",
    "    # path_map keeps the diagram clean and avoids stray auto-edges in some versions.\n",
    "    builder.add_conditional_edges(\"agent\", tools_condition, path_map=[\"tools\", END])\n",
    "\n",
    "    # After running a tool, go back to the agent to continue or finish\n",
    "    builder.add_edge(\"tools\", \"agent\")\n",
    "\n",
    "    return builder.compile()\n"
   ]
  },
  {
   "cell_type": "code",
   "execution_count": 2,
   "id": "c24844fc",
   "metadata": {},
   "outputs": [],
   "source": [
    "app=create_graph()\n",
    "png_bytes = app.get_graph().draw_mermaid_png(output_file_path=\"graph.png\")"
   ]
  },
  {
   "cell_type": "code",
   "execution_count": null,
   "id": "4fe27862",
   "metadata": {},
   "outputs": [],
   "source": []
  }
 ],
 "metadata": {
  "kernelspec": {
   "display_name": ".venv",
   "language": "python",
   "name": "python3"
  },
  "language_info": {
   "codemirror_mode": {
    "name": "ipython",
    "version": 3
   },
   "file_extension": ".py",
   "mimetype": "text/x-python",
   "name": "python",
   "nbconvert_exporter": "python",
   "pygments_lexer": "ipython3",
   "version": "3.12.1"
  }
 },
 "nbformat": 4,
 "nbformat_minor": 5
}
