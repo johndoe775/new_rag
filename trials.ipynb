{
 "cells": [
  {
   "cell_type": "code",
   "execution_count": 1,
   "id": "3ebced9a",
   "metadata": {},
   "outputs": [
    {
     "name": "stderr",
     "output_type": "stream",
     "text": [
      "/tmp/ipykernel_24995/3720885069.py:1: LangChainDeprecationWarning: As of langchain-core 0.3.0, LangChain uses pydantic v2 internally. The langchain_core.pydantic_v1 module was a compatibility shim for pydantic v1, and should no longer be used. Please update the code to import from Pydantic directly.\n",
      "\n",
      "For example, replace imports like: `from langchain_core.pydantic_v1 import BaseModel`\n",
      "with: `from pydantic import BaseModel`\n",
      "or the v1 compatibility namespace if you are working in a code base that has not been fully upgraded to pydantic 2 yet. \tfrom pydantic.v1 import BaseModel\n",
      "\n",
      "  import app\n"
     ]
    }
   ],
   "source": [
    "import app"
   ]
  },
  {
   "cell_type": "code",
   "execution_count": null,
   "id": "084b3a99",
   "metadata": {},
   "outputs": [
    {
     "ename": "AttributeError",
     "evalue": "module 'app' has no attribute 'invoke'",
     "output_type": "error",
     "traceback": [
      "\u001b[31m---------------------------------------------------------------------------\u001b[39m",
      "\u001b[31mAttributeError\u001b[39m                            Traceback (most recent call last)",
      "\u001b[36mCell\u001b[39m\u001b[36m \u001b[39m\u001b[32mIn[2]\u001b[39m\u001b[32m, line 1\u001b[39m\n\u001b[32m----> \u001b[39m\u001b[32m1\u001b[39m \u001b[43mapp\u001b[49m\u001b[43m.\u001b[49m\u001b[43minvoke\u001b[49m({\u001b[33m\"\u001b[39m\u001b[33mmessage\u001b[39m\u001b[33m\"\u001b[39m:[\u001b[33m\"\u001b[39m\u001b[33mhi\u001b[39m\u001b[33m\"\u001b[39m]})\n",
      "\u001b[31mAttributeError\u001b[39m: module 'app' has no attribute 'invoke'"
     ]
    }
   ],
   "source": [
    "from app import graph\n",
    "app.invoke({\"message\":[\"hi\"]})"
   ]
  },
  {
   "cell_type": "code",
   "execution_count": 1,
   "metadata": {},
   "outputs": [
    {
     "name": "stderr",
     "output_type": "stream",
     "text": [
      "/workspaces/new_rag/research/tools/pandas_tool.py:10: LangChainDeprecationWarning: As of langchain-core 0.3.0, LangChain uses pydantic v2 internally. The langchain_core.pydantic_v1 module was a compatibility shim for pydantic v1, and should no longer be used. Please update the code to import from Pydantic directly.\n",
      "\n",
      "For example, replace imports like: `from langchain_core.pydantic_v1 import BaseModel`\n",
      "with: `from pydantic import BaseModel`\n",
      "or the v1 compatibility namespace if you are working in a code base that has not been fully upgraded to pydantic 2 yet. \tfrom pydantic.v1 import BaseModel\n",
      "\n",
      "  from .state import GraphState\n"
     ]
    }
   ],
   "source": [
    "from typing import List, Annotated, TypedDict\n",
    "from pydantic import BaseModel, Field\n",
    "\n",
    "from langgraph.graph import StateGraph, START, END\n",
    "from langgraph.graph.message import add_messages\n",
    "from langgraph.prebuilt import ToolNode, tools_condition\n",
    "\n",
    "from langchain_core.messages import BaseMessage, HumanMessage, AIMessage\n",
    "from langchain_core.tools import tool\n",
    "\n",
    "# Your local modules\n",
    "from research.helpers import LLM\n",
    "from research.tools import pandas_tool, sql_tool, rag_tool\n",
    "\n",
    "# -------------------------\n",
    "# Graph state\n",
    "# -------------------------\n",
    "class GraphState(TypedDict, total=False):\n",
    "    messages: Annotated[List[BaseMessage], add_messages]\n",
    "    inputs: str\n",
    "\n",
    "# -------------------------\n",
    "# Wrap existing functions as LangChain Tools\n",
    "# (names can be anything, but they must match what the LLM may call)\n",
    "# -------------------------\n",
    "@tool\n",
    "def pandas_exec(query: str) -> str:\n",
    "    \"\"\"Run a pandas task on in-memory data as described by `query`.\"\"\"\n",
    "    return str(pandas_tool.pandas_tool(query))\n",
    "\n",
    "@tool\n",
    "def sql_exec(query: str) -> str:\n",
    "    \"\"\"Run a SQL/pandasql task described by `query`.\"\"\"\n",
    "    return str(sql_tool.pandasql_tool(query))\n",
    "\n",
    "@tool\n",
    "def rag_exec(query: str) -> str:\n",
    "    \"\"\"Run a retrieval-augmented lookup to answer `query`.\"\"\"\n",
    "    return str(rag_tool.rag_tool(query))\n",
    "\n",
    "TOOLS = [pandas_exec, sql_exec, rag_exec]\n",
    "\n",
    "# -------------------------\n",
    "# Build the graph\n",
    "# -------------------------\n",
    "def create_graph():\n",
    "    builder = StateGraph(GraphState)\n",
    "\n",
    "    # 1) Agent node: call model *bound to tools* so it can emit tool_calls\n",
    "    agent_llm = LLM().llm.bind_tools(TOOLS)\n",
    "\n",
    "    def agent_node(state: GraphState) -> GraphState:\n",
    "        msgs = state.get(\"messages\", [])\n",
    "        # Ensure the latest user input is present as a HumanMessage\n",
    "        if not msgs or not isinstance(msgs[-1], HumanMessage):\n",
    "            msgs = msgs + [HumanMessage(content=state[\"inputs\"])]\n",
    "\n",
    "        ai = agent_llm.invoke(msgs)   # may include tool_calls\n",
    "        return {\"messages\": [ai]}\n",
    "\n",
    "    # 2) Tools node: executes tool_calls found in the last AI message\n",
    "    tools_node = ToolNode(TOOLS)\n",
    "\n",
    "    # 3) Register nodes\n",
    "    builder.add_node(\"agent\", agent_node)\n",
    "    builder.add_node(\"tools\", tools_node)\n",
    "\n",
    "    # 4) Wire edges\n",
    "    builder.add_edge(START, \"agent\")\n",
    "\n",
    "    # If the LLM requested a tool, go to ToolNode; else, END.\n",
    "    # path_map keeps the diagram clean and avoids stray auto-edges in some versions.\n",
    "    builder.add_conditional_edges(\"agent\", tools_condition, path_map=[\"tools\", END])\n",
    "\n",
    "    # After running a tool, go back to the agent to continue or finish\n",
    "    builder.add_edge(\"tools\", \"agent\")\n",
    "\n",
    "    return builder.compile()\n"
   ]
  },
  {
   "cell_type": "code",
   "execution_count": 2,
   "id": "c24844fc",
   "metadata": {},
   "outputs": [],
   "source": [
    "app=create_graph()\n",
    "png_bytes = app.get_graph().draw_mermaid_png(output_file_path=\"graph.png\")"
   ]
  },
  {
   "cell_type": "code",
   "execution_count": 2,
   "id": "4fe27862",
   "metadata": {},
   "outputs": [
    {
     "name": "stderr",
     "output_type": "stream",
     "text": [
      "/workspaces/new_rag/research/tools/pandas_tool.py:10: LangChainDeprecationWarning: As of langchain-core 0.3.0, LangChain uses pydantic v2 internally. The langchain_core.pydantic_v1 module was a compatibility shim for pydantic v1, and should no longer be used. Please update the code to import from Pydantic directly.\n",
      "\n",
      "For example, replace imports like: `from langchain_core.pydantic_v1 import BaseModel`\n",
      "with: `from pydantic import BaseModel`\n",
      "or the v1 compatibility namespace if you are working in a code base that has not been fully upgraded to pydantic 2 yet. \tfrom pydantic.v1 import BaseModel\n",
      "\n",
      "  from .state import GraphState\n"
     ]
    }
   ],
   "source": [
    "from typing import List, Annotated, TypedDict\n",
    "from pydantic import BaseModel, Field\n",
    "\n",
    "from langgraph.graph import StateGraph, START, END\n",
    "from langgraph.graph.message import add_messages\n",
    "from langgraph.prebuilt import ToolNode, tools_condition\n",
    "\n",
    "from langchain_core.messages import BaseMessage, HumanMessage, AIMessage\n",
    "from langchain_core.tools import tool\n",
    "from langchain_core.prompts import PromptTemplate\n",
    "\n",
    "# Your local modules\n",
    "from research.helpers import LLM\n",
    "from research.tools import pandas_tool, sql_tool, rag_tool\n",
    "class GraphState(TypedDict, total=False):\n",
    "    messages: Annotated[List[BaseMessage], add_messages]\n",
    "    inputs: str\n",
    "    choice: str  # Directly store the tool choice as a string\n",
    "\n",
    "\n",
    "# -------------------------\n",
    "# Graph builder\n",
    "# -------------------------\n",
    "def create_graph():\n",
    "    graph = StateGraph(GraphState)\n",
    "\n",
    "    # 1) Input node: decide which tool to use by calling the LLM\n",
    "    def inputs_node(state: GraphState) -> GraphState:\n",
    "        state[\"inputs\"] = input(\"Enter your query: \")\n",
    "        user_input = state[\"inputs\"]\n",
    "\n",
    "        prompt = PromptTemplate(\n",
    "            template=\"\"\"You are a router that decides which tool to use for a user request.\n",
    "\n",
    "User input:\n",
    "{user_input}\n",
    "\n",
    "Return one of:\n",
    "- \"pandas\" for DataFrame wrangling/visualizations\n",
    "- \"sql\" for queries that should be answered with SQL (incl. pandasql)\n",
    "- \"rag\" for retrieval-augmented generation (document/knowledge lookup)\n",
    "\n",
    "Return ONLY the literal label.\"\"\",\n",
    "inputs=[\"user_input\"]\n",
    "        )\n",
    "        prompt=prompt.format(user_input=user_input)\n",
    "\n",
    "        response = LLM().llm.invoke({\"user_input\": user_input, \"prompt\": prompt})\n",
    "\n",
    "        # Directly store the choice as a string\n",
    "        state[\"choice\"] = response  # Assuming response is a string\n",
    "\n",
    "        return state\n"
   ]
  },
  {
   "cell_type": "code",
   "execution_count": 8,
   "id": "3c929785",
   "metadata": {},
   "outputs": [],
   "source": [
    "from langchain_core.prompts import PromptTemplate\n",
    "from typing import List, Annotated, TypedDict\n",
    "from pydantic import BaseModel, Field\n",
    "\n",
    "from langgraph.graph import StateGraph, START, END\n",
    "from langgraph.graph.message import add_messages\n",
    "from langgraph.prebuilt import ToolNode, tools_condition\n",
    "\n",
    "from langchain_core.messages import BaseMessage, HumanMessage, AIMessage\n",
    "from langchain_core.tools import tool\n",
    "from langchain_core.prompts import PromptTemplate\n",
    "\n",
    "# Your local modules\n",
    "from research.helpers import LLM\n",
    "from research.tools import pandas_tool, sql_tool, rag_tool\n",
    "\n",
    "def inputs_node():\n",
    "        user_input  = input(\"Enter your query: \")\n",
    "        \n",
    "\n",
    "        prompt = PromptTemplate(\n",
    "            template=\"\"\"You are a router that decides which tool to use for a user request.\n",
    "\n",
    "User input:\n",
    "{user_input}\n",
    "\n",
    "Return one of:\n",
    "- \"pandas\" for DataFrame wrangling/visualizations\n",
    "- \"sql\" for queries that should be answered with SQL (incl. pandasql)\n",
    "- \"rag\" for retrieval-augmented generation (document/knowledge lookup)\n",
    "\n",
    "Return ONLY the literal label.\"\"\",\n",
    "inputs=[\"user_input\"]\n",
    "        )\n",
    "        prompt=prompt.format(user_input=user_input)\n",
    "\n",
    "        response = LLM().llm.invoke(prompt)\n",
    "\n",
    "        # Directly store the choice as a string\n",
    "        return response  # Assuming response is a string"
   ]
  },
  {
   "cell_type": "code",
   "execution_count": 9,
   "id": "4b24d126",
   "metadata": {},
   "outputs": [],
   "source": [
    "x=inputs_node()"
   ]
  },
  {
   "cell_type": "code",
   "execution_count": 11,
   "id": "36ef6167",
   "metadata": {},
   "outputs": [
    {
     "data": {
      "text/plain": [
       "'pandas'"
      ]
     },
     "execution_count": 11,
     "metadata": {},
     "output_type": "execute_result"
    }
   ],
   "source": [
    "x.content"
   ]
  },
  {
   "cell_type": "code",
   "execution_count": 2,
   "id": "4b273304",
   "metadata": {},
   "outputs": [],
   "source": [
    "tools = [pandas_tool.pandas_tool, sql_tool.pandasql_tool, rag_tool.rag_tool]\n"
   ]
  },
  {
   "cell_type": "code",
   "execution_count": 7,
   "id": "41263ff4",
   "metadata": {},
   "outputs": [
    {
     "ename": "ValidationError",
     "evalue": "2 validation errors for pandas_tool\nstate.answer\n  Field required [type=missing, input_value={'messages': [HumanMessag...hi', 'choice': 'pandas'}, input_type=dict]\n    For further information visit https://errors.pydantic.dev/2.11/v/missing\nstate.tool_choice\n  Field required [type=missing, input_value={'messages': [HumanMessag...hi', 'choice': 'pandas'}, input_type=dict]\n    For further information visit https://errors.pydantic.dev/2.11/v/missing",
     "output_type": "error",
     "traceback": [
      "\u001b[31m---------------------------------------------------------------------------\u001b[39m",
      "\u001b[31mValidationError\u001b[39m                           Traceback (most recent call last)",
      "\u001b[36mCell\u001b[39m\u001b[36m \u001b[39m\u001b[32mIn[7]\u001b[39m\u001b[32m, line 1\u001b[39m\n\u001b[32m----> \u001b[39m\u001b[32m1\u001b[39m \u001b[43mtools\u001b[49m\u001b[43m[\u001b[49m\u001b[32;43m0\u001b[39;49m\u001b[43m]\u001b[49m\u001b[43m.\u001b[49m\u001b[43minvoke\u001b[49m\u001b[43m(\u001b[49m\u001b[43m{\u001b[49m\u001b[33;43m\"\u001b[39;49m\u001b[33;43mstate\u001b[39;49m\u001b[33;43m\"\u001b[39;49m\u001b[43m:\u001b[49m\u001b[43mstate\u001b[49m\u001b[43m}\u001b[49m\u001b[43m)\u001b[49m\n",
      "\u001b[36mFile \u001b[39m\u001b[32m~/.local/lib/python3.12/site-packages/langchain_core/tools/base.py:599\u001b[39m, in \u001b[36mBaseTool.invoke\u001b[39m\u001b[34m(self, input, config, **kwargs)\u001b[39m\n\u001b[32m    591\u001b[39m \u001b[38;5;129m@override\u001b[39m\n\u001b[32m    592\u001b[39m \u001b[38;5;28;01mdef\u001b[39;00m\u001b[38;5;250m \u001b[39m\u001b[34minvoke\u001b[39m(\n\u001b[32m    593\u001b[39m     \u001b[38;5;28mself\u001b[39m,\n\u001b[32m   (...)\u001b[39m\u001b[32m    596\u001b[39m     **kwargs: Any,\n\u001b[32m    597\u001b[39m ) -> Any:\n\u001b[32m    598\u001b[39m     tool_input, kwargs = _prep_run_args(\u001b[38;5;28minput\u001b[39m, config, **kwargs)\n\u001b[32m--> \u001b[39m\u001b[32m599\u001b[39m     \u001b[38;5;28;01mreturn\u001b[39;00m \u001b[38;5;28;43mself\u001b[39;49m\u001b[43m.\u001b[49m\u001b[43mrun\u001b[49m\u001b[43m(\u001b[49m\u001b[43mtool_input\u001b[49m\u001b[43m,\u001b[49m\u001b[43m \u001b[49m\u001b[43m*\u001b[49m\u001b[43m*\u001b[49m\u001b[43mkwargs\u001b[49m\u001b[43m)\u001b[49m\n",
      "\u001b[36mFile \u001b[39m\u001b[32m~/.local/lib/python3.12/site-packages/langchain_core/tools/base.py:883\u001b[39m, in \u001b[36mBaseTool.run\u001b[39m\u001b[34m(self, tool_input, verbose, start_color, color, callbacks, tags, metadata, run_name, run_id, config, tool_call_id, **kwargs)\u001b[39m\n\u001b[32m    881\u001b[39m \u001b[38;5;28;01mif\u001b[39;00m error_to_raise:\n\u001b[32m    882\u001b[39m     run_manager.on_tool_error(error_to_raise)\n\u001b[32m--> \u001b[39m\u001b[32m883\u001b[39m     \u001b[38;5;28;01mraise\u001b[39;00m error_to_raise\n\u001b[32m    884\u001b[39m output = _format_output(content, artifact, tool_call_id, \u001b[38;5;28mself\u001b[39m.name, status)\n\u001b[32m    885\u001b[39m run_manager.on_tool_end(output, color=color, name=\u001b[38;5;28mself\u001b[39m.name, **kwargs)\n",
      "\u001b[36mFile \u001b[39m\u001b[32m~/.local/lib/python3.12/site-packages/langchain_core/tools/base.py:845\u001b[39m, in \u001b[36mBaseTool.run\u001b[39m\u001b[34m(self, tool_input, verbose, start_color, color, callbacks, tags, metadata, run_name, run_id, config, tool_call_id, **kwargs)\u001b[39m\n\u001b[32m    843\u001b[39m child_config = patch_config(config, callbacks=run_manager.get_child())\n\u001b[32m    844\u001b[39m \u001b[38;5;28;01mwith\u001b[39;00m set_config_context(child_config) \u001b[38;5;28;01mas\u001b[39;00m context:\n\u001b[32m--> \u001b[39m\u001b[32m845\u001b[39m     tool_args, tool_kwargs = \u001b[38;5;28;43mself\u001b[39;49m\u001b[43m.\u001b[49m\u001b[43m_to_args_and_kwargs\u001b[49m\u001b[43m(\u001b[49m\n\u001b[32m    846\u001b[39m \u001b[43m        \u001b[49m\u001b[43mtool_input\u001b[49m\u001b[43m,\u001b[49m\u001b[43m \u001b[49m\u001b[43mtool_call_id\u001b[49m\n\u001b[32m    847\u001b[39m \u001b[43m    \u001b[49m\u001b[43m)\u001b[49m\n\u001b[32m    848\u001b[39m     \u001b[38;5;28;01mif\u001b[39;00m signature(\u001b[38;5;28mself\u001b[39m._run).parameters.get(\u001b[33m\"\u001b[39m\u001b[33mrun_manager\u001b[39m\u001b[33m\"\u001b[39m):\n\u001b[32m    849\u001b[39m         tool_kwargs |= {\u001b[33m\"\u001b[39m\u001b[33mrun_manager\u001b[39m\u001b[33m\"\u001b[39m: run_manager}\n",
      "\u001b[36mFile \u001b[39m\u001b[32m~/.local/lib/python3.12/site-packages/langchain_core/tools/base.py:760\u001b[39m, in \u001b[36mBaseTool._to_args_and_kwargs\u001b[39m\u001b[34m(self, tool_input, tool_call_id)\u001b[39m\n\u001b[32m    752\u001b[39m \u001b[38;5;28;01mif\u001b[39;00m (\n\u001b[32m    753\u001b[39m     \u001b[38;5;28mself\u001b[39m.args_schema \u001b[38;5;129;01mis\u001b[39;00m \u001b[38;5;129;01mnot\u001b[39;00m \u001b[38;5;28;01mNone\u001b[39;00m\n\u001b[32m    754\u001b[39m     \u001b[38;5;129;01mand\u001b[39;00m \u001b[38;5;28misinstance\u001b[39m(\u001b[38;5;28mself\u001b[39m.args_schema, \u001b[38;5;28mtype\u001b[39m)\n\u001b[32m   (...)\u001b[39m\u001b[32m    757\u001b[39m ):\n\u001b[32m    758\u001b[39m     \u001b[38;5;66;03m# StructuredTool with no args\u001b[39;00m\n\u001b[32m    759\u001b[39m     \u001b[38;5;28;01mreturn\u001b[39;00m (), {}\n\u001b[32m--> \u001b[39m\u001b[32m760\u001b[39m tool_input = \u001b[38;5;28;43mself\u001b[39;49m\u001b[43m.\u001b[49m\u001b[43m_parse_input\u001b[49m\u001b[43m(\u001b[49m\u001b[43mtool_input\u001b[49m\u001b[43m,\u001b[49m\u001b[43m \u001b[49m\u001b[43mtool_call_id\u001b[49m\u001b[43m)\u001b[49m\n\u001b[32m    761\u001b[39m \u001b[38;5;66;03m# For backwards compatibility, if run_input is a string,\u001b[39;00m\n\u001b[32m    762\u001b[39m \u001b[38;5;66;03m# pass as a positional argument.\u001b[39;00m\n\u001b[32m    763\u001b[39m \u001b[38;5;28;01mif\u001b[39;00m \u001b[38;5;28misinstance\u001b[39m(tool_input, \u001b[38;5;28mstr\u001b[39m):\n",
      "\u001b[36mFile \u001b[39m\u001b[32m~/.local/lib/python3.12/site-packages/langchain_core/tools/base.py:667\u001b[39m, in \u001b[36mBaseTool._parse_input\u001b[39m\u001b[34m(self, tool_input, tool_call_id)\u001b[39m\n\u001b[32m    665\u001b[39m                 \u001b[38;5;28;01mraise\u001b[39;00m \u001b[38;5;167;01mValueError\u001b[39;00m(msg)\n\u001b[32m    666\u001b[39m             tool_input[k] = tool_call_id\n\u001b[32m--> \u001b[39m\u001b[32m667\u001b[39m     result = \u001b[43minput_args\u001b[49m\u001b[43m.\u001b[49m\u001b[43mmodel_validate\u001b[49m\u001b[43m(\u001b[49m\u001b[43mtool_input\u001b[49m\u001b[43m)\u001b[49m\n\u001b[32m    668\u001b[39m     result_dict = result.model_dump()\n\u001b[32m    669\u001b[39m \u001b[38;5;28;01melif\u001b[39;00m \u001b[38;5;28missubclass\u001b[39m(input_args, BaseModelV1):\n",
      "\u001b[36mFile \u001b[39m\u001b[32m~/.local/lib/python3.12/site-packages/pydantic/main.py:705\u001b[39m, in \u001b[36mBaseModel.model_validate\u001b[39m\u001b[34m(cls, obj, strict, from_attributes, context, by_alias, by_name)\u001b[39m\n\u001b[32m    699\u001b[39m \u001b[38;5;28;01mif\u001b[39;00m by_alias \u001b[38;5;129;01mis\u001b[39;00m \u001b[38;5;28;01mFalse\u001b[39;00m \u001b[38;5;129;01mand\u001b[39;00m by_name \u001b[38;5;129;01mis\u001b[39;00m \u001b[38;5;129;01mnot\u001b[39;00m \u001b[38;5;28;01mTrue\u001b[39;00m:\n\u001b[32m    700\u001b[39m     \u001b[38;5;28;01mraise\u001b[39;00m PydanticUserError(\n\u001b[32m    701\u001b[39m         \u001b[33m'\u001b[39m\u001b[33mAt least one of `by_alias` or `by_name` must be set to True.\u001b[39m\u001b[33m'\u001b[39m,\n\u001b[32m    702\u001b[39m         code=\u001b[33m'\u001b[39m\u001b[33mvalidate-by-alias-and-name-false\u001b[39m\u001b[33m'\u001b[39m,\n\u001b[32m    703\u001b[39m     )\n\u001b[32m--> \u001b[39m\u001b[32m705\u001b[39m \u001b[38;5;28;01mreturn\u001b[39;00m \u001b[38;5;28;43mcls\u001b[39;49m\u001b[43m.\u001b[49m\u001b[43m__pydantic_validator__\u001b[49m\u001b[43m.\u001b[49m\u001b[43mvalidate_python\u001b[49m\u001b[43m(\u001b[49m\n\u001b[32m    706\u001b[39m \u001b[43m    \u001b[49m\u001b[43mobj\u001b[49m\u001b[43m,\u001b[49m\u001b[43m \u001b[49m\u001b[43mstrict\u001b[49m\u001b[43m=\u001b[49m\u001b[43mstrict\u001b[49m\u001b[43m,\u001b[49m\u001b[43m \u001b[49m\u001b[43mfrom_attributes\u001b[49m\u001b[43m=\u001b[49m\u001b[43mfrom_attributes\u001b[49m\u001b[43m,\u001b[49m\u001b[43m \u001b[49m\u001b[43mcontext\u001b[49m\u001b[43m=\u001b[49m\u001b[43mcontext\u001b[49m\u001b[43m,\u001b[49m\u001b[43m \u001b[49m\u001b[43mby_alias\u001b[49m\u001b[43m=\u001b[49m\u001b[43mby_alias\u001b[49m\u001b[43m,\u001b[49m\u001b[43m \u001b[49m\u001b[43mby_name\u001b[49m\u001b[43m=\u001b[49m\u001b[43mby_name\u001b[49m\n\u001b[32m    707\u001b[39m \u001b[43m\u001b[49m\u001b[43m)\u001b[49m\n",
      "\u001b[31mValidationError\u001b[39m: 2 validation errors for pandas_tool\nstate.answer\n  Field required [type=missing, input_value={'messages': [HumanMessag...hi', 'choice': 'pandas'}, input_type=dict]\n    For further information visit https://errors.pydantic.dev/2.11/v/missing\nstate.tool_choice\n  Field required [type=missing, input_value={'messages': [HumanMessag...hi', 'choice': 'pandas'}, input_type=dict]\n    For further information visit https://errors.pydantic.dev/2.11/v/missing"
     ]
    }
   ],
   "source": [
    "tools[0].invoke({\"state\":state})"
   ]
  },
  {
   "cell_type": "code",
   "execution_count": 6,
   "id": "02c0110e",
   "metadata": {},
   "outputs": [],
   "source": [
    "state={\"messages\":[HumanMessage(content=\"hi\")],\"inputs\":\"hi\",\"choice\":\"pandas\"}"
   ]
  },
  {
   "cell_type": "code",
   "execution_count": null,
   "id": "841d8100",
   "metadata": {},
   "outputs": [],
   "source": []
  },
  {
   "cell_type": "code",
   "execution_count": null,
   "id": "2feae72e",
   "metadata": {},
   "outputs": [],
   "source": []
  },
  {
   "cell_type": "code",
   "execution_count": null,
   "id": "6b732a5b",
   "metadata": {},
   "outputs": [],
   "source": []
  }
 ],
 "metadata": {
  "kernelspec": {
   "display_name": "Python 3",
   "language": "python",
   "name": "python3"
  },
  "language_info": {
   "codemirror_mode": {
    "name": "ipython",
    "version": 3
   },
   "file_extension": ".py",
   "mimetype": "text/x-python",
   "name": "python",
   "nbconvert_exporter": "python",
   "pygments_lexer": "ipython3",
   "version": "3.12.1"
  }
 },
 "nbformat": 4,
 "nbformat_minor": 5
}
